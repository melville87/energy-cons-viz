{
 "cells": [
  {
   "cell_type": "markdown",
   "metadata": {},
   "source": [
    "# Predicting Customer Churn "
   ]
  },
  {
   "cell_type": "markdown",
   "metadata": {},
   "source": [
    "## 1. The Dataset"
   ]
  },
  {
   "cell_type": "markdown",
   "metadata": {},
   "source": [
    "The dataset consists of a csv file containing data on about 7,000 customers of a telecommunication company; the data also includes information about the customers' churn status. A customer is said to have churned if they cancelled their subscription to the company's service. <br>\n",
    "The goal of the following analysis is to build a machine learning classification model that allows to predict which (new) customers are more likely to churn. The company could leverage this information to devise data-driven strategies to improve the customer retention rate, for example by tailoring special product offers/rates to specific groups of customers at risk of churning. <br>\n",
    "This dataset is freely available on Kaggle at this [url](https://www.kaggle.com/blastchar/telco-customer-churn). "
   ]
  },
  {
   "cell_type": "code",
   "execution_count": 1,
   "metadata": {},
   "outputs": [],
   "source": [
    "import numpy as np\n",
    "import pandas as pd\n",
    "import matplotlib.pyplot as plt\n",
    "import warnings\n",
    "warnings.simplefilter(action='ignore', category=FutureWarning)\n",
    "import seaborn as sns"
   ]
  },
  {
   "cell_type": "code",
   "execution_count": 2,
   "metadata": {},
   "outputs": [],
   "source": [
    "telco= pd.read_csv(\"./WA_Fn-UseC_-Telco-Customer-Churn.csv\")"
   ]
  },
  {
   "cell_type": "code",
   "execution_count": 3,
   "metadata": {},
   "outputs": [
    {
     "data": {
      "text/html": [
       "<div>\n",
       "<style scoped>\n",
       "    .dataframe tbody tr th:only-of-type {\n",
       "        vertical-align: middle;\n",
       "    }\n",
       "\n",
       "    .dataframe tbody tr th {\n",
       "        vertical-align: top;\n",
       "    }\n",
       "\n",
       "    .dataframe thead th {\n",
       "        text-align: right;\n",
       "    }\n",
       "</style>\n",
       "<table border=\"1\" class=\"dataframe\">\n",
       "  <thead>\n",
       "    <tr style=\"text-align: right;\">\n",
       "      <th></th>\n",
       "      <th>customerID</th>\n",
       "      <th>gender</th>\n",
       "      <th>SeniorCitizen</th>\n",
       "      <th>Partner</th>\n",
       "      <th>Dependents</th>\n",
       "      <th>tenure</th>\n",
       "      <th>PhoneService</th>\n",
       "      <th>MultipleLines</th>\n",
       "      <th>InternetService</th>\n",
       "      <th>OnlineSecurity</th>\n",
       "      <th>...</th>\n",
       "      <th>DeviceProtection</th>\n",
       "      <th>TechSupport</th>\n",
       "      <th>StreamingTV</th>\n",
       "      <th>StreamingMovies</th>\n",
       "      <th>Contract</th>\n",
       "      <th>PaperlessBilling</th>\n",
       "      <th>PaymentMethod</th>\n",
       "      <th>MonthlyCharges</th>\n",
       "      <th>TotalCharges</th>\n",
       "      <th>Churn</th>\n",
       "    </tr>\n",
       "  </thead>\n",
       "  <tbody>\n",
       "    <tr>\n",
       "      <th>0</th>\n",
       "      <td>7590-VHVEG</td>\n",
       "      <td>Female</td>\n",
       "      <td>0</td>\n",
       "      <td>Yes</td>\n",
       "      <td>No</td>\n",
       "      <td>1</td>\n",
       "      <td>No</td>\n",
       "      <td>No phone service</td>\n",
       "      <td>DSL</td>\n",
       "      <td>No</td>\n",
       "      <td>...</td>\n",
       "      <td>No</td>\n",
       "      <td>No</td>\n",
       "      <td>No</td>\n",
       "      <td>No</td>\n",
       "      <td>Month-to-month</td>\n",
       "      <td>Yes</td>\n",
       "      <td>Electronic check</td>\n",
       "      <td>29.85</td>\n",
       "      <td>29.85</td>\n",
       "      <td>No</td>\n",
       "    </tr>\n",
       "    <tr>\n",
       "      <th>1</th>\n",
       "      <td>5575-GNVDE</td>\n",
       "      <td>Male</td>\n",
       "      <td>0</td>\n",
       "      <td>No</td>\n",
       "      <td>No</td>\n",
       "      <td>34</td>\n",
       "      <td>Yes</td>\n",
       "      <td>No</td>\n",
       "      <td>DSL</td>\n",
       "      <td>Yes</td>\n",
       "      <td>...</td>\n",
       "      <td>Yes</td>\n",
       "      <td>No</td>\n",
       "      <td>No</td>\n",
       "      <td>No</td>\n",
       "      <td>One year</td>\n",
       "      <td>No</td>\n",
       "      <td>Mailed check</td>\n",
       "      <td>56.95</td>\n",
       "      <td>1889.5</td>\n",
       "      <td>No</td>\n",
       "    </tr>\n",
       "    <tr>\n",
       "      <th>2</th>\n",
       "      <td>3668-QPYBK</td>\n",
       "      <td>Male</td>\n",
       "      <td>0</td>\n",
       "      <td>No</td>\n",
       "      <td>No</td>\n",
       "      <td>2</td>\n",
       "      <td>Yes</td>\n",
       "      <td>No</td>\n",
       "      <td>DSL</td>\n",
       "      <td>Yes</td>\n",
       "      <td>...</td>\n",
       "      <td>No</td>\n",
       "      <td>No</td>\n",
       "      <td>No</td>\n",
       "      <td>No</td>\n",
       "      <td>Month-to-month</td>\n",
       "      <td>Yes</td>\n",
       "      <td>Mailed check</td>\n",
       "      <td>53.85</td>\n",
       "      <td>108.15</td>\n",
       "      <td>Yes</td>\n",
       "    </tr>\n",
       "    <tr>\n",
       "      <th>3</th>\n",
       "      <td>7795-CFOCW</td>\n",
       "      <td>Male</td>\n",
       "      <td>0</td>\n",
       "      <td>No</td>\n",
       "      <td>No</td>\n",
       "      <td>45</td>\n",
       "      <td>No</td>\n",
       "      <td>No phone service</td>\n",
       "      <td>DSL</td>\n",
       "      <td>Yes</td>\n",
       "      <td>...</td>\n",
       "      <td>Yes</td>\n",
       "      <td>Yes</td>\n",
       "      <td>No</td>\n",
       "      <td>No</td>\n",
       "      <td>One year</td>\n",
       "      <td>No</td>\n",
       "      <td>Bank transfer (automatic)</td>\n",
       "      <td>42.30</td>\n",
       "      <td>1840.75</td>\n",
       "      <td>No</td>\n",
       "    </tr>\n",
       "    <tr>\n",
       "      <th>4</th>\n",
       "      <td>9237-HQITU</td>\n",
       "      <td>Female</td>\n",
       "      <td>0</td>\n",
       "      <td>No</td>\n",
       "      <td>No</td>\n",
       "      <td>2</td>\n",
       "      <td>Yes</td>\n",
       "      <td>No</td>\n",
       "      <td>Fiber optic</td>\n",
       "      <td>No</td>\n",
       "      <td>...</td>\n",
       "      <td>No</td>\n",
       "      <td>No</td>\n",
       "      <td>No</td>\n",
       "      <td>No</td>\n",
       "      <td>Month-to-month</td>\n",
       "      <td>Yes</td>\n",
       "      <td>Electronic check</td>\n",
       "      <td>70.70</td>\n",
       "      <td>151.65</td>\n",
       "      <td>Yes</td>\n",
       "    </tr>\n",
       "  </tbody>\n",
       "</table>\n",
       "<p>5 rows × 21 columns</p>\n",
       "</div>"
      ],
      "text/plain": [
       "   customerID  gender  SeniorCitizen Partner Dependents  tenure PhoneService  \\\n",
       "0  7590-VHVEG  Female              0     Yes         No       1           No   \n",
       "1  5575-GNVDE    Male              0      No         No      34          Yes   \n",
       "2  3668-QPYBK    Male              0      No         No       2          Yes   \n",
       "3  7795-CFOCW    Male              0      No         No      45           No   \n",
       "4  9237-HQITU  Female              0      No         No       2          Yes   \n",
       "\n",
       "      MultipleLines InternetService OnlineSecurity  ...  DeviceProtection  \\\n",
       "0  No phone service             DSL             No  ...                No   \n",
       "1                No             DSL            Yes  ...               Yes   \n",
       "2                No             DSL            Yes  ...                No   \n",
       "3  No phone service             DSL            Yes  ...               Yes   \n",
       "4                No     Fiber optic             No  ...                No   \n",
       "\n",
       "  TechSupport StreamingTV StreamingMovies        Contract PaperlessBilling  \\\n",
       "0          No          No              No  Month-to-month              Yes   \n",
       "1          No          No              No        One year               No   \n",
       "2          No          No              No  Month-to-month              Yes   \n",
       "3         Yes          No              No        One year               No   \n",
       "4          No          No              No  Month-to-month              Yes   \n",
       "\n",
       "               PaymentMethod MonthlyCharges  TotalCharges Churn  \n",
       "0           Electronic check          29.85         29.85    No  \n",
       "1               Mailed check          56.95        1889.5    No  \n",
       "2               Mailed check          53.85        108.15   Yes  \n",
       "3  Bank transfer (automatic)          42.30       1840.75    No  \n",
       "4           Electronic check          70.70        151.65   Yes  \n",
       "\n",
       "[5 rows x 21 columns]"
      ]
     },
     "execution_count": 3,
     "metadata": {},
     "output_type": "execute_result"
    }
   ],
   "source": [
    "telco.head()"
   ]
  },
  {
   "cell_type": "markdown",
   "metadata": {},
   "source": [
    "* __customerID__: customer ID string. \n",
    "* __gender__: customer gender (female, male)\n",
    "* __SeniorCitizen__: whether the customer is a senior citizen or not (1, 0)\n",
    "* __Partner__: whether the customer has a partner or not (Yes, No)\n",
    "* __Dependents__: whether the customer has dependents or not (Yes, No)\n",
    "* __tenure__: number of months the customer has stayed with the company\n",
    "* __PhoneService__: whether the customer has a phone service or not (Yes, No)\n",
    "* __MultipleLines__: whether the customer has multiple lines or not (Yes, No, No phone service)\n",
    "* __InternetService__: customer’s internet service provider (DSL, Fiber optic, No)\n",
    "* __OnlineSecurity__: whether the customer has online security or not (Yes, No, No internet service)\n",
    "* __OnlineBackup__: whether the customer has online backup or not (Yes, No, No internet service)\n",
    "* __DeviceProtection__: whether the customer has device protection or not (Yes, No, No internet service)\n",
    "* __TechSupport__: whether the customer has tech support or not (Yes, No, No internet service)\n",
    "* __StreamingTV__: whether the customer has streaming TV or not (Yes, No, No internet service)\n",
    "* __StreamingMovies__: whether the customer has streaming movies or not (Yes, No, No internet service)\n",
    "* __Contract__: the contract term of the customer (Month-to-month, One year, Two year)\n",
    "* __PaperlessBilling__: whether the customer has paperless billing or not (Yes, No)\n",
    "* __PaymentMethod__: the customer’s payment method (Electronic check, Mailed check, Bank transfer (automatic), Credit card (automatic))\n",
    "* __MonthlyCharges__: the amount charged to the customer monthly\n",
    "* __TotalCharges__: the total amount charged to the customer\n",
    "* __Churn__: whether the customer churned or not (Yes or No)"
   ]
  },
  {
   "cell_type": "code",
   "execution_count": 4,
   "metadata": {},
   "outputs": [
    {
     "data": {
      "text/plain": [
       "(7043, 21)"
      ]
     },
     "execution_count": 4,
     "metadata": {},
     "output_type": "execute_result"
    }
   ],
   "source": [
    "telco.shape"
   ]
  },
  {
   "cell_type": "code",
   "execution_count": 5,
   "metadata": {},
   "outputs": [
    {
     "data": {
      "text/plain": [
       "customerID           object\n",
       "gender               object\n",
       "SeniorCitizen         int64\n",
       "Partner              object\n",
       "Dependents           object\n",
       "tenure                int64\n",
       "PhoneService         object\n",
       "MultipleLines        object\n",
       "InternetService      object\n",
       "OnlineSecurity       object\n",
       "OnlineBackup         object\n",
       "DeviceProtection     object\n",
       "TechSupport          object\n",
       "StreamingTV          object\n",
       "StreamingMovies      object\n",
       "Contract             object\n",
       "PaperlessBilling     object\n",
       "PaymentMethod        object\n",
       "MonthlyCharges      float64\n",
       "TotalCharges         object\n",
       "Churn                object\n",
       "dtype: object"
      ]
     },
     "execution_count": 5,
     "metadata": {},
     "output_type": "execute_result"
    }
   ],
   "source": [
    "telco.dtypes"
   ]
  },
  {
   "cell_type": "markdown",
   "metadata": {},
   "source": [
    "## 2. Cleaning and Pre-Processing the Data"
   ]
  },
  {
   "cell_type": "markdown",
   "metadata": {},
   "source": [
    "The above list shows that: \n",
    "* There are 21 predictors of which only \"tenure\", \"monthly charges\" and \"total charges\" are quantitative. <br>\n",
    "* The remaining 18 predictors include one identifier (\"customerID\") and 17 categorical predictors, some of which binary, others multi-class. \n",
    "* The target variable to predict is \"churn\", a binary categorical variable, i.e. the customer has either churned (\"Yes\") or not (\"No\"). <br>\n",
    "* The dataset is not yet ready for fitting a ML model. To begin with, not all data types are consistent with the associated variable: \"Total charges\" has been interpreted as a column of strings, likely because some values could not be parsed as numbers by pandas. \"SeniorCitizen\" is an int64, but should be a category. <br>  \n",
    "First, it is good to check for the presence of NaN values: "
   ]
  },
  {
   "cell_type": "code",
   "execution_count": 6,
   "metadata": {},
   "outputs": [
    {
     "data": {
      "text/plain": [
       "customerID          0\n",
       "gender              0\n",
       "SeniorCitizen       0\n",
       "Partner             0\n",
       "Dependents          0\n",
       "tenure              0\n",
       "PhoneService        0\n",
       "MultipleLines       0\n",
       "InternetService     0\n",
       "OnlineSecurity      0\n",
       "OnlineBackup        0\n",
       "DeviceProtection    0\n",
       "TechSupport         0\n",
       "StreamingTV         0\n",
       "StreamingMovies     0\n",
       "Contract            0\n",
       "PaperlessBilling    0\n",
       "PaymentMethod       0\n",
       "MonthlyCharges      0\n",
       "TotalCharges        0\n",
       "Churn               0\n",
       "dtype: int64"
      ]
     },
     "execution_count": 6,
     "metadata": {},
     "output_type": "execute_result"
    }
   ],
   "source": [
    "telco.isna().sum()"
   ]
  },
  {
   "cell_type": "markdown",
   "metadata": {},
   "source": [
    "No na values in the dataset, but there are observations in \"Total charges\" that cannot be parsed to numbers by pandas as applying the method pd.to_numeric() for string-to-number conversion raises an error. These observations can be retrieved using the following method. "
   ]
  },
  {
   "cell_type": "code",
   "execution_count": 7,
   "metadata": {},
   "outputs": [
    {
     "data": {
      "text/plain": [
       "(11, 21)"
      ]
     },
     "execution_count": 7,
     "metadata": {},
     "output_type": "execute_result"
    }
   ],
   "source": [
    "# search for strings in \"TotalCharges\" that do not contain numbers \n",
    "# define regular expression\n",
    "expr= '1|2|3|4|5|6|7|8|9|0'\n",
    "# select df observations that do not contain numbers \n",
    "telco[ ~telco['TotalCharges'].str.contains( expr, regex= True ) ].shape"
   ]
  },
  {
   "cell_type": "markdown",
   "metadata": {},
   "source": [
    "11 observations in the column \"Total charges\" do not contain numbers: they are in fact empty strings. "
   ]
  },
  {
   "cell_type": "code",
   "execution_count": 8,
   "metadata": {},
   "outputs": [
    {
     "data": {
      "text/plain": [
       "11"
      ]
     },
     "execution_count": 8,
     "metadata": {},
     "output_type": "execute_result"
    }
   ],
   "source": [
    "# \"TotalCharges\" must be converted to float\n",
    "telco['TotalCharges']= pd.to_numeric( telco['TotalCharges'], \n",
    "                                      errors= 'coerce' )\n",
    "# 11 empty strings cannot be converted, and are replaced with NaN\n",
    "telco['TotalCharges'].isna().sum()"
   ]
  },
  {
   "cell_type": "markdown",
   "metadata": {},
   "source": [
    "Na values produced by the conversion of \"Total Charges\" to numbers are stored in another data frame (\"telco_nas\"). They're a small number relative to the total number of observations, so removing them should not cause significant loss of accuracy in the model (provided that the classes of the target variable are not extremely unbalanced, which is the case for this dataset). These NaN values can be imputed later on, after testing a baseline model, and added back to the dataset to check whether their inclusion after imputation improves the model accuracy. "
   ]
  },
  {
   "cell_type": "code",
   "execution_count": 9,
   "metadata": {},
   "outputs": [],
   "source": [
    "telco_nas= telco[ telco['TotalCharges'].isna() ].copy()"
   ]
  },
  {
   "cell_type": "markdown",
   "metadata": {},
   "source": [
    "NaN values can now be dropped from the dataset. "
   ]
  },
  {
   "cell_type": "code",
   "execution_count": 10,
   "metadata": {},
   "outputs": [],
   "source": [
    "telco_nona= telco.dropna().copy()"
   ]
  },
  {
   "cell_type": "markdown",
   "metadata": {},
   "source": [
    "\"SeniorCitizen\" must be converted to a category or object data type. "
   ]
  },
  {
   "cell_type": "code",
   "execution_count": 11,
   "metadata": {},
   "outputs": [
    {
     "data": {
      "text/plain": [
       "array([0, 1])"
      ]
     },
     "execution_count": 11,
     "metadata": {},
     "output_type": "execute_result"
    }
   ],
   "source": [
    "telco_nona['SeniorCitizen'].unique()"
   ]
  },
  {
   "cell_type": "code",
   "execution_count": 12,
   "metadata": {},
   "outputs": [
    {
     "data": {
      "text/plain": [
       "customerID           object\n",
       "gender               object\n",
       "SeniorCitizen        object\n",
       "Partner              object\n",
       "Dependents           object\n",
       "tenure                int64\n",
       "PhoneService         object\n",
       "MultipleLines        object\n",
       "InternetService      object\n",
       "OnlineSecurity       object\n",
       "OnlineBackup         object\n",
       "DeviceProtection     object\n",
       "TechSupport          object\n",
       "StreamingTV          object\n",
       "StreamingMovies      object\n",
       "Contract             object\n",
       "PaperlessBilling     object\n",
       "PaymentMethod        object\n",
       "MonthlyCharges      float64\n",
       "TotalCharges        float64\n",
       "Churn                object\n",
       "dtype: object"
      ]
     },
     "execution_count": 12,
     "metadata": {},
     "output_type": "execute_result"
    }
   ],
   "source": [
    "telco_nona['SeniorCitizen']= telco_nona['SeniorCitizen'].replace( to_replace= {0: 'No', 1: 'Yes'} )\n",
    "telco_nona.dtypes"
   ]
  },
  {
   "cell_type": "markdown",
   "metadata": {},
   "source": [
    "\"customerID\" identifier can be dropped. "
   ]
  },
  {
   "cell_type": "code",
   "execution_count": 13,
   "metadata": {},
   "outputs": [],
   "source": [
    "telco_nona.drop(\"customerID\", axis= 1, inplace= True)"
   ]
  },
  {
   "cell_type": "markdown",
   "metadata": {},
   "source": [
    "Replace some predictor names with shorter names for plotting. "
   ]
  },
  {
   "cell_type": "code",
   "execution_count": 14,
   "metadata": {},
   "outputs": [
    {
     "data": {
      "text/plain": [
       "Gender               object\n",
       "Senior               object\n",
       "Partner              object\n",
       "Dependents           object\n",
       "Tenure                int64\n",
       "Phone                object\n",
       "MultipleLines        object\n",
       "Internet             object\n",
       "OnlineSecurity       object\n",
       "OnlineBackup         object\n",
       "DeviceProtection     object\n",
       "TechSupport          object\n",
       "StreamingTV          object\n",
       "StreamingMovies      object\n",
       "Contract             object\n",
       "PaperlessBilling     object\n",
       "PaymentMethod        object\n",
       "MonthlyCharges      float64\n",
       "TotalCharges        float64\n",
       "Churn                object\n",
       "dtype: object"
      ]
     },
     "execution_count": 14,
     "metadata": {},
     "output_type": "execute_result"
    }
   ],
   "source": [
    "mapper = {\"gender\": \"Gender\", \"SeniorCitizen\": \"Senior\", \n",
    "          \"PhoneService\": \"Phone\", \"InternetService\": \"Internet\", \n",
    "          \"tenure\": \"Tenure\"}\n",
    "telco_nona.rename(mapper= mapper, axis= 1, inplace= True)\n",
    "telco_nona.dtypes"
   ]
  },
  {
   "cell_type": "markdown",
   "metadata": {},
   "source": [
    "Unique values of categorical predictors can be listed to check their class multiplicity. "
   ]
  },
  {
   "cell_type": "code",
   "execution_count": 15,
   "metadata": {},
   "outputs": [
    {
     "name": "stdout",
     "output_type": "stream",
     "text": [
      "Gender  : ['Female' 'Male']\n",
      "Senior  : ['No' 'Yes']\n",
      "Partner  : ['Yes' 'No']\n",
      "Dependents  : ['No' 'Yes']\n",
      "Phone  : ['No' 'Yes']\n",
      "MultipleLines  : ['No phone service' 'No' 'Yes']\n",
      "Internet  : ['DSL' 'Fiber optic' 'No']\n",
      "OnlineSecurity  : ['No' 'Yes' 'No internet service']\n",
      "OnlineBackup  : ['Yes' 'No' 'No internet service']\n",
      "DeviceProtection  : ['No' 'Yes' 'No internet service']\n",
      "TechSupport  : ['No' 'Yes' 'No internet service']\n",
      "StreamingTV  : ['No' 'Yes' 'No internet service']\n",
      "StreamingMovies  : ['No' 'Yes' 'No internet service']\n",
      "Contract  : ['Month-to-month' 'One year' 'Two year']\n",
      "PaperlessBilling  : ['Yes' 'No']\n",
      "PaymentMethod  : ['Electronic check' 'Mailed check' 'Bank transfer (automatic)'\n",
      " 'Credit card (automatic)']\n",
      "Churn  : ['No' 'Yes']\n"
     ]
    }
   ],
   "source": [
    "# check unique values for categorical features\n",
    "for item in telco_nona.select_dtypes(object).columns: \n",
    "    print( item, ' :', telco_nona[ item ].unique() )"
   ]
  },
  {
   "cell_type": "markdown",
   "metadata": {},
   "source": [
    "Some predictor classes can be assigned shorter names. "
   ]
  },
  {
   "cell_type": "code",
   "execution_count": 16,
   "metadata": {},
   "outputs": [],
   "source": [
    "telco_nona['Gender']= telco_nona['Gender'].replace( to_replace= {'Female': 'F', 'Male': 'M'} ) \n",
    "telco_nona['MultipleLines']= telco_nona['MultipleLines'].replace( to_replace= { 'No phone service': 'No phone' } )\n",
    "telco_nona['Internet']= telco_nona['Internet'].replace( to_replace= {'Fiber optic': 'Fiber'} )\n",
    "telco_nona[['OnlineSecurity', \n",
    "           'OnlineBackup', \n",
    "           'DeviceProtection', \n",
    "           'TechSupport', \n",
    "           'StreamingTV', \n",
    "           'StreamingMovies']]= telco_nona[['OnlineSecurity', \n",
    "                                            'OnlineBackup', \n",
    "                                            'DeviceProtection', \n",
    "                                            'TechSupport', \n",
    "                                            'StreamingTV', \n",
    "                                            'StreamingMovies']].replace( to_replace= {'No internet service': 'No internet'} )\n",
    "telco_nona['Contract']= telco_nona['Contract'].replace( to_replace= {'Month-to-month': 'M-to-M'} )\n",
    "telco_nona['PaymentMethod']= telco_nona['PaymentMethod'].replace( to_replace= {'Electronic check': 'e-check', \n",
    "                                                                               'Mailed check': 'm-check', \n",
    "                                                                               'Bank transfer (automatic)': 'b-transfer', \n",
    "                                                                               'Credit card (automatic)': 'c-card'} )"
   ]
  },
  {
   "cell_type": "code",
   "execution_count": 17,
   "metadata": {},
   "outputs": [
    {
     "name": "stdout",
     "output_type": "stream",
     "text": [
      "Gender  : ['F' 'M']\n",
      "Senior  : ['No' 'Yes']\n",
      "Partner  : ['Yes' 'No']\n",
      "Dependents  : ['No' 'Yes']\n",
      "Phone  : ['No' 'Yes']\n",
      "MultipleLines  : ['No phone' 'No' 'Yes']\n",
      "Internet  : ['DSL' 'Fiber' 'No']\n",
      "OnlineSecurity  : ['No' 'Yes' 'No internet']\n",
      "OnlineBackup  : ['Yes' 'No' 'No internet']\n",
      "DeviceProtection  : ['No' 'Yes' 'No internet']\n",
      "TechSupport  : ['No' 'Yes' 'No internet']\n",
      "StreamingTV  : ['No' 'Yes' 'No internet']\n",
      "StreamingMovies  : ['No' 'Yes' 'No internet']\n",
      "Contract  : ['M-to-M' 'One year' 'Two year']\n",
      "PaperlessBilling  : ['Yes' 'No']\n",
      "PaymentMethod  : ['e-check' 'm-check' 'b-transfer' 'c-card']\n",
      "Churn  : ['No' 'Yes']\n"
     ]
    }
   ],
   "source": [
    "for item in telco_nona.select_dtypes(object).columns: \n",
    "    print( item, ' :', telco_nona[ item ].unique() )"
   ]
  },
  {
   "cell_type": "markdown",
   "metadata": {},
   "source": [
    "## 3. Visualizing the Relationships between Features"
   ]
  },
  {
   "cell_type": "markdown",
   "metadata": {},
   "source": [
    "It is often useful to get a sense of how the data relates to the target of the predictions by plotting the relationship between some independent variables and the target variable. <br>\n",
    "Additionally, it is important to know whether the target classes are balanced to accurately measure the performance of the classification model that will be built: "
   ]
  },
  {
   "cell_type": "code",
   "execution_count": 18,
   "metadata": {},
   "outputs": [
    {
     "data": {
      "image/png": "[encoded data removed]",
      "text/plain": [
       "<Figure size 432x288 with 1 Axes>"
      ]
     },
     "metadata": {},
     "output_type": "display_data"
    }
   ],
   "source": [
    "sns.set(font_scale= 1.15)\n",
    "ax= sns.countplot(telco_nona.Churn)"
   ]
  },
  {
   "cell_type": "code",
   "execution_count": 19,
   "metadata": {},
   "outputs": [
    {
     "name": "stdout",
     "output_type": "stream",
     "text": [
      "Did not churn:  5163.0\n",
      "Churned:  1869.0\n",
      "'Yes'/'No' prop.:  36.20\n"
     ]
    }
   ],
   "source": [
    "notchurn = telco_nona[ telco_nona[\"Churn\"]==\"No\" ].notnull().sum().mean()\n",
    "churned = telco_nona[ telco_nona[\"Churn\"]==\"Yes\" ].notnull().sum().mean()\n",
    "print(\"Did not churn: \", notchurn)\n",
    "print(\"Churned: \", churned)\n",
    "print(\"'Yes'/'No' prop.: \", \"{:.2f}\".format(churned/notchurn*100))"
   ]
  },
  {
   "cell_type": "markdown",
   "metadata": {},
   "source": [
    "The target classes are significantly unbalanced: \n",
    "* Customers who churned account for ~2/3 of total.  \n",
    "\n",
    "Next, churns may be displayed as a function of gender to see whether male and female customers differ in their churn rate. "
   ]
  },
  {
   "cell_type": "code",
   "execution_count": 20,
   "metadata": {},
   "outputs": [
    {
     "data": {
      "image/png": "[encoded data removed]",
      "text/plain": [
       "<Figure size 432x216 with 2 Axes>"
      ]
     },
     "metadata": {},
     "output_type": "display_data"
    }
   ],
   "source": [
    "ax= sns.FacetGrid(telco_nona, col= \"Gender\", hue= \"Churn\")\n",
    "ax= ax.map(sns.countplot, \"Churn\", order= [\"Yes\", \"No\"])"
   ]
  },
  {
   "cell_type": "markdown",
   "metadata": {},
   "source": [
    "Interestingly, gender doesn't make much of a difference when it comes to churning the company. Churn rates for male and female customers are nearly identical. <br>\n",
    "Insights into customer groups at high risk of churning may be gained by following the scheme of plotting categorical independent variables against the churn variable. Variables can be selected by making sound associations; for example, one may expect that customers on month-to-month contracts are more likely to churn as they can do so probably without incurring penalties. "
   ]
  },
  {
   "cell_type": "code",
   "execution_count": 21,
   "metadata": {},
   "outputs": [
    {
     "data": {
      "image/png": "[encoded data removed]",
      "text/plain": [
       "<Figure size 648x216 with 3 Axes>"
      ]
     },
     "metadata": {},
     "output_type": "display_data"
    }
   ],
   "source": [
    "ax= sns.FacetGrid(telco_nona, col= \"Contract\",  \n",
    "                  hue= \"Churn\", margin_titles= True)\n",
    "ax= ax.map(sns.countplot, \"Churn\", order= [\"Yes\", \"No\"])"
   ]
  },
  {
   "cell_type": "markdown",
   "metadata": {},
   "source": [
    "Indeed, contract duration seems to bear a strong association with the churn rate. Churns recorded for customers on two-year contracts are a tiny fraction.  \n",
    "* Customers on __month-to-month contracts__ are at risk of churning.  \n",
    "\n",
    "What about having or not phone and internet services? "
   ]
  },
  {
   "cell_type": "code",
   "execution_count": 22,
   "metadata": {},
   "outputs": [
    {
     "data": {
      "image/png": "[encoded data removed]",
      "text/plain": [
       "<Figure size 648x432 with 6 Axes>"
      ]
     },
     "metadata": {},
     "output_type": "display_data"
    }
   ],
   "source": [
    "ax= sns.FacetGrid(telco_nona, col= \"Internet\", row= \"Phone\", \n",
    "                  hue= \"Churn\", margin_titles= True)\n",
    "ax= ax.map(sns.countplot, \"Churn\", order= [\"Yes\", \"No\"])"
   ]
  },
  {
   "cell_type": "markdown",
   "metadata": {},
   "source": [
    "* Customers __with phone service and internet connection via optical fiber__ are at risk of churning. "
   ]
  },
  {
   "cell_type": "markdown",
   "metadata": {},
   "source": [
    "Payment methods and the way customers are billed by the company could also make a difference. "
   ]
  },
  {
   "cell_type": "code",
   "execution_count": 23,
   "metadata": {},
   "outputs": [
    {
     "data": {
      "image/png": "[encoded data removed]",
      "text/plain": [
       "<Figure size 864x432 with 8 Axes>"
      ]
     },
     "metadata": {},
     "output_type": "display_data"
    }
   ],
   "source": [
    "ax= sns.FacetGrid(telco_nona, col= \"PaymentMethod\", \n",
    "                  row= \"PaperlessBilling\", hue= \"Churn\", \n",
    "                  margin_titles= True)\n",
    "ax= ax.map(sns.countplot, \"Churn\", order= [\"Yes\", \"No\"])"
   ]
  },
  {
   "cell_type": "markdown",
   "metadata": {},
   "source": [
    "* Customers who opted in for __paperless billing and pay with electronic checks__ are at risk of churning. "
   ]
  },
  {
   "cell_type": "markdown",
   "metadata": {},
   "source": [
    "Quantitative predictors are also on the menu. The size of a service bill may be expected to correlate with the churn rate of customers. "
   ]
  },
  {
   "cell_type": "code",
   "execution_count": 24,
   "metadata": {},
   "outputs": [
    {
     "data": {
      "image/png": "[encoded data removed]",
      "text/plain": [
       "<Figure size 432x432 with 3 Axes>"
      ]
     },
     "metadata": {},
     "output_type": "display_data"
    }
   ],
   "source": [
    "ax= sns.jointplot(data= telco_nona[ telco_nona[\"Churn\"]==\"No\" ], \n",
    "                  x= \"Tenure\", \n",
    "                  y= \"MonthlyCharges\", \n",
    "                  kind= \"kde\", \n",
    "                  n_levels= 60)"
   ]
  },
  {
   "cell_type": "code",
   "execution_count": 25,
   "metadata": {},
   "outputs": [
    {
     "data": {
      "image/png": "[encoded data removed]",
      "text/plain": [
       "<Figure size 432x432 with 3 Axes>"
      ]
     },
     "metadata": {},
     "output_type": "display_data"
    }
   ],
   "source": [
    "ax= sns.jointplot(data= telco_nona[ telco_nona[\"Churn\"]==\"Yes\" ], \n",
    "                  x= \"Tenure\", \n",
    "                  y= \"MonthlyCharges\", \n",
    "                  kind= \"kde\", \n",
    "                  n_levels= 60, \n",
    "                  color= \"darkorange\")"
   ]
  },
  {
   "cell_type": "markdown",
   "metadata": {},
   "source": [
    "The values of monthly charges and tenure look strongly localized for the customers who churned. <br>\n",
    "* A large proportion of customers who churned were receiving __bills in excess of 60 dollars a month, and had subscribed to the company's services for less than a year__. \n",
    "* Loyal customers tend to be more evenly spread with respect to the tenure and monthly charges predictors. However, regions with high concentration of loyal customers are also present: high tenure or low monthly charges are more frequently associated with customers who did not churn. "
   ]
  },
  {
   "cell_type": "markdown",
   "metadata": {},
   "source": [
    "## 4. Definition of a Baseline Model: Logistic Regression"
   ]
  },
  {
   "cell_type": "markdown",
   "metadata": {},
   "source": [
    "A simple machine learning model for classification may be initially fit to the dataset. Its performance will serve as a baseline against which more refined models may be compared. <br>\n",
    "Categorical predictors must be encoded to quantitative variables to fit a model with scikit-learn. The following code applies the simplest form of encoding to all categorical predictors in the dataset: ordinal encoding. "
   ]
  },
  {
   "cell_type": "code",
   "execution_count": 26,
   "metadata": {},
   "outputs": [],
   "source": [
    "# load libraries\n",
    "# category encoding \n",
    "import category_encoders as ce\n",
    "# train test splitting\n",
    "from sklearn.model_selection import train_test_split\n",
    "# make folds for repeated k-fold cross-validation\n",
    "from sklearn.model_selection import RepeatedStratifiedKFold\n",
    "# calculate performance metrics on resamples\n",
    "from sklearn.model_selection import cross_validate\n",
    "# feature scaler\n",
    "from sklearn.preprocessing import StandardScaler\n",
    "# model \n",
    "from sklearn.linear_model import LogisticRegression\n",
    "# select appropriate performance metrics \n",
    "from sklearn import metrics"
   ]
  },
  {
   "cell_type": "code",
   "execution_count": 27,
   "metadata": {
    "scrolled": true
   },
   "outputs": [],
   "source": [
    "# define predictors and target variable \n",
    "X= telco_nona.iloc[:, :-1].copy()\n",
    "y= telco_nona.loc[:, [\"Churn\"]].copy()"
   ]
  },
  {
   "cell_type": "code",
   "execution_count": 28,
   "metadata": {},
   "outputs": [
    {
     "name": "stdout",
     "output_type": "stream",
     "text": [
      "Shape of predictors dataset:  (7032, 19)\n",
      "Shape of target variable dataset:  (7032,)\n"
     ]
    }
   ],
   "source": [
    "# encode predictors using ordinal encoder \n",
    "encoder_pred= ce.OrdinalEncoder()\n",
    "encoder_target= ce.OrdinalEncoder(mapping=[{\"col\": \"Churn\", \n",
    "                                            \"mapping\": [(\"No\", 0), (\"Yes\", 1)]}])\n",
    "X= encoder_pred.fit_transform(X)\n",
    "y= encoder_target.fit_transform(y)\n",
    "# convert target variable data frame to numpy array\n",
    "y= y.values.ravel()\n",
    "# convert int to float to avoid warning messages from scaler\n",
    "X= X.astype(float)\n",
    "\n",
    "# check predictors and target variable dimensionality\n",
    "print(\"Shape of predictors dataset: \", X.shape)\n",
    "print(\"Shape of target variable dataset: \", y.shape)"
   ]
  },
  {
   "cell_type": "code",
   "execution_count": 29,
   "metadata": {},
   "outputs": [
    {
     "name": "stdout",
     "output_type": "stream",
     "text": [
      "Gender : [('F', 1), ('M', 2)]\n",
      "Senior : [('No', 1), ('Yes', 2)]\n",
      "Partner : [('Yes', 1), ('No', 2)]\n",
      "Dependents : [('No', 1), ('Yes', 2)]\n",
      "Phone : [('No', 1), ('Yes', 2)]\n",
      "MultipleLines : [('No phone', 1), ('No', 2), ('Yes', 3)]\n",
      "Internet : [('DSL', 1), ('Fiber', 2), ('No', 3)]\n",
      "OnlineSecurity : [('No', 1), ('Yes', 2), ('No internet', 3)]\n",
      "OnlineBackup : [('Yes', 1), ('No', 2), ('No internet', 3)]\n",
      "DeviceProtection : [('No', 1), ('Yes', 2), ('No internet', 3)]\n",
      "TechSupport : [('No', 1), ('Yes', 2), ('No internet', 3)]\n",
      "StreamingTV : [('No', 1), ('Yes', 2), ('No internet', 3)]\n",
      "StreamingMovies : [('No', 1), ('Yes', 2), ('No internet', 3)]\n",
      "Contract : [('M-to-M', 1), ('One year', 2), ('Two year', 3)]\n",
      "PaperlessBilling : [('Yes', 1), ('No', 2)]\n",
      "PaymentMethod : [('e-check', 1), ('m-check', 2), ('b-transfer', 3), ('c-card', 4)]\n"
     ]
    }
   ],
   "source": [
    "# check encoding labels and levels \n",
    "import churn_module as cm\n",
    "cm.get_mapping(encoder_pred)"
   ]
  },
  {
   "cell_type": "code",
   "execution_count": 30,
   "metadata": {},
   "outputs": [],
   "source": [
    "# split dataset into train and test set \n",
    "# maintaining class proportions\n",
    "X_train, X_test, y_train, y_test= train_test_split(X, y, \n",
    "                                                   stratify= y, \n",
    "                                                   test_size= 0.2, \n",
    "                                                   random_state= 1987)"
   ]
  },
  {
   "cell_type": "code",
   "execution_count": 31,
   "metadata": {},
   "outputs": [],
   "source": [
    "# center and scale features\n",
    "scaler = StandardScaler()\n",
    "X_train_scld = scaler.fit_transform(X_train)"
   ]
  },
  {
   "cell_type": "code",
   "execution_count": 32,
   "metadata": {},
   "outputs": [],
   "source": [
    "# select and instantiate model: logistic regression\n",
    "lg= LogisticRegression(penalty= \"l1\", \n",
    "                       random_state= 1987, \n",
    "                       solver= \"liblinear\", \n",
    "                       n_jobs= 1)"
   ]
  },
  {
   "cell_type": "code",
   "execution_count": 33,
   "metadata": {},
   "outputs": [],
   "source": [
    "# 10 folds repeated 10 times for cross-validation \n",
    "rskf= RepeatedStratifiedKFold(n_splits= 10, \n",
    "                              n_repeats= 10, \n",
    "                              random_state= 1987)\n",
    "\n",
    "# peformance metrics \n",
    "scoring= {\"Area under ROC curve: \": \"roc_auc\", \n",
    "          \"Balanced accuracy:\": \"balanced_accuracy\", \n",
    "          \"F1 score:\": \"f1\"}\n",
    "\n",
    "# train classifier on validation folds, \n",
    "# calculate and store scores for each metric \n",
    "scores = cross_validate( lg, X_train_scld, y_train, \n",
    "                         scoring= list(scoring.values()), \n",
    "                         cv= rskf, \n",
    "                         n_jobs= 4, \n",
    "                         return_train_score= False, \n",
    "                         return_estimator= False )"
   ]
  },
  {
   "cell_type": "code",
   "execution_count": 34,
   "metadata": {},
   "outputs": [
    {
     "name": "stdout",
     "output_type": "stream",
     "text": [
      "------\n",
      "---- Logistic Regression ----\n",
      "------\n",
      "fit_time 0.117\n",
      "score_time 0.007\n",
      "test_roc_auc 0.843\n",
      "test_balanced_accuracy 0.718\n",
      "test_f1 0.590\n"
     ]
    },
    {
     "data": {
      "image/png": "[encoded data removed]",
      "text/plain": [
       "<Figure size 864x288 with 3 Axes>"
      ]
     },
     "metadata": {},
     "output_type": "display_data"
    }
   ],
   "source": [
    "cm.get_cls_metrics(\"Logistic Regression\", scores)"
   ]
  },
  {
   "cell_type": "markdown",
   "metadata": {},
   "source": [
    "Remark: the company may want to emphasize recall over precision, i.e. it may consider more relevant for its business to correctly classify all customers who churn (y = 1, Positives) and less relevant to misclassify customers who do not (y = 0, Negatives). <br>\n",
    "* Precision: TP/(TP + FP). It is high when False Positives are << True Positives, i.e. when the number of customers who do not churn, but are classified in the group of those who do, is low. \n",
    "* Recall: TP/(TP + FN). It is high when False Negatives are << True Positives, i.e when the number of customers who churn, but are classified in the group of those who don't, is low. <br>  \n",
    "\n",
    "A better choice to test the predictive accuracy of the classifier would then be to take a $f_{\\beta}$ score, where $\\beta$ is a coefficient that weighs recall higher than precision if > 1. In the following, we will take the standard $f$ score and make no specific assumptions about the company's business objectives. "
   ]
  },
  {
   "cell_type": "code",
   "execution_count": null,
   "metadata": {},
   "outputs": [],
   "source": []
  }
 ],
 "metadata": {
  "kernelspec": {
   "display_name": "Python 3",
   "language": "python",
   "name": "python3"
  },
  "language_info": {
   "codemirror_mode": {
    "name": "ipython",
    "version": 3
   },
   "file_extension": ".py",
   "mimetype": "text/x-python",
   "name": "python",
   "nbconvert_exporter": "python",
   "pygments_lexer": "ipython3",
   "version": "3.6.6"
  }
 },
 "nbformat": 4,
 "nbformat_minor": 2
}
