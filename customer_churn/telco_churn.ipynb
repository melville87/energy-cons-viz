{
 "cells": [
  {
   "cell_type": "markdown",
   "metadata": {},
   "source": [
    "# Predicting Customer Churn "
   ]
  },
  {
   "cell_type": "markdown",
   "metadata": {},
   "source": [
    "## 1. The Dataset"
   ]
  },
  {
   "cell_type": "markdown",
   "metadata": {},
   "source": [
    "The dataset consists of a csv file containing data on about 7,000 customers of a telecommunication company; the data also includes information about the customers' churn status. A customer is said to have churned if they cancelled their subscription to the company's service. <br>\n",
    "The goal of the following analysis is to build a machine learning classification model that allows to predict which (new) customers are more likely to churn. The company could leverage this information to devise data-driven strategies to improve the customer retention rate, for example by tailoring special product offers/rates to specific groups of customers at risk of churning. <br>\n",
    "This dataset is freely available on Kaggle at this [url](https://www.kaggle.com/blastchar/telco-customer-churn). "
   ]
  },
  {
   "cell_type": "code",
   "execution_count": 1,
   "metadata": {},
   "outputs": [],
   "source": [
    "import numpy as np\n",
    "import pandas as pd\n",
    "import matplotlib.pyplot as plt\n",
    "import warnings\n",
    "warnings.simplefilter(action='ignore', category=FutureWarning)\n",
    "import seaborn as sns"
   ]
  },
  {
   "cell_type": "code",
   "execution_count": 2,
   "metadata": {},
   "outputs": [],
   "source": [
    "telco= pd.read_csv(\"./WA_Fn-UseC_-Telco-Customer-Churn.csv\")"
   ]
  },
  {
   "cell_type": "code",
   "execution_count": 3,
   "metadata": {},
   "outputs": [
    {
     "data": {
      "text/html": [
       "<div>\n",
       "<style scoped>\n",
       "    .dataframe tbody tr th:only-of-type {\n",
       "        vertical-align: middle;\n",
       "    }\n",
       "\n",
       "    .dataframe tbody tr th {\n",
       "        vertical-align: top;\n",
       "    }\n",
       "\n",
       "    .dataframe thead th {\n",
       "        text-align: right;\n",
       "    }\n",
       "</style>\n",
       "<table border=\"1\" class=\"dataframe\">\n",
       "  <thead>\n",
       "    <tr style=\"text-align: right;\">\n",
       "      <th></th>\n",
       "      <th>customerID</th>\n",
       "      <th>gender</th>\n",
       "      <th>SeniorCitizen</th>\n",
       "      <th>Partner</th>\n",
       "      <th>Dependents</th>\n",
       "      <th>tenure</th>\n",
       "      <th>PhoneService</th>\n",
       "      <th>MultipleLines</th>\n",
       "      <th>InternetService</th>\n",
       "      <th>OnlineSecurity</th>\n",
       "      <th>...</th>\n",
       "      <th>DeviceProtection</th>\n",
       "      <th>TechSupport</th>\n",
       "      <th>StreamingTV</th>\n",
       "      <th>StreamingMovies</th>\n",
       "      <th>Contract</th>\n",
       "      <th>PaperlessBilling</th>\n",
       "      <th>PaymentMethod</th>\n",
       "      <th>MonthlyCharges</th>\n",
       "      <th>TotalCharges</th>\n",
       "      <th>Churn</th>\n",
       "    </tr>\n",
       "  </thead>\n",
       "  <tbody>\n",
       "    <tr>\n",
       "      <th>0</th>\n",
       "      <td>7590-VHVEG</td>\n",
       "      <td>Female</td>\n",
       "      <td>0</td>\n",
       "      <td>Yes</td>\n",
       "      <td>No</td>\n",
       "      <td>1</td>\n",
       "      <td>No</td>\n",
       "      <td>No phone service</td>\n",
       "      <td>DSL</td>\n",
       "      <td>No</td>\n",
       "      <td>...</td>\n",
       "      <td>No</td>\n",
       "      <td>No</td>\n",
       "      <td>No</td>\n",
       "      <td>No</td>\n",
       "      <td>Month-to-month</td>\n",
       "      <td>Yes</td>\n",
       "      <td>Electronic check</td>\n",
       "      <td>29.85</td>\n",
       "      <td>29.85</td>\n",
       "      <td>No</td>\n",
       "    </tr>\n",
       "    <tr>\n",
       "      <th>1</th>\n",
       "      <td>5575-GNVDE</td>\n",
       "      <td>Male</td>\n",
       "      <td>0</td>\n",
       "      <td>No</td>\n",
       "      <td>No</td>\n",
       "      <td>34</td>\n",
       "      <td>Yes</td>\n",
       "      <td>No</td>\n",
       "      <td>DSL</td>\n",
       "      <td>Yes</td>\n",
       "      <td>...</td>\n",
       "      <td>Yes</td>\n",
       "      <td>No</td>\n",
       "      <td>No</td>\n",
       "      <td>No</td>\n",
       "      <td>One year</td>\n",
       "      <td>No</td>\n",
       "      <td>Mailed check</td>\n",
       "      <td>56.95</td>\n",
       "      <td>1889.5</td>\n",
       "      <td>No</td>\n",
       "    </tr>\n",
       "    <tr>\n",
       "      <th>2</th>\n",
       "      <td>3668-QPYBK</td>\n",
       "      <td>Male</td>\n",
       "      <td>0</td>\n",
       "      <td>No</td>\n",
       "      <td>No</td>\n",
       "      <td>2</td>\n",
       "      <td>Yes</td>\n",
       "      <td>No</td>\n",
       "      <td>DSL</td>\n",
       "      <td>Yes</td>\n",
       "      <td>...</td>\n",
       "      <td>No</td>\n",
       "      <td>No</td>\n",
       "      <td>No</td>\n",
       "      <td>No</td>\n",
       "      <td>Month-to-month</td>\n",
       "      <td>Yes</td>\n",
       "      <td>Mailed check</td>\n",
       "      <td>53.85</td>\n",
       "      <td>108.15</td>\n",
       "      <td>Yes</td>\n",
       "    </tr>\n",
       "    <tr>\n",
       "      <th>3</th>\n",
       "      <td>7795-CFOCW</td>\n",
       "      <td>Male</td>\n",
       "      <td>0</td>\n",
       "      <td>No</td>\n",
       "      <td>No</td>\n",
       "      <td>45</td>\n",
       "      <td>No</td>\n",
       "      <td>No phone service</td>\n",
       "      <td>DSL</td>\n",
       "      <td>Yes</td>\n",
       "      <td>...</td>\n",
       "      <td>Yes</td>\n",
       "      <td>Yes</td>\n",
       "      <td>No</td>\n",
       "      <td>No</td>\n",
       "      <td>One year</td>\n",
       "      <td>No</td>\n",
       "      <td>Bank transfer (automatic)</td>\n",
       "      <td>42.30</td>\n",
       "      <td>1840.75</td>\n",
       "      <td>No</td>\n",
       "    </tr>\n",
       "    <tr>\n",
       "      <th>4</th>\n",
       "      <td>9237-HQITU</td>\n",
       "      <td>Female</td>\n",
       "      <td>0</td>\n",
       "      <td>No</td>\n",
       "      <td>No</td>\n",
       "      <td>2</td>\n",
       "      <td>Yes</td>\n",
       "      <td>No</td>\n",
       "      <td>Fiber optic</td>\n",
       "      <td>No</td>\n",
       "      <td>...</td>\n",
       "      <td>No</td>\n",
       "      <td>No</td>\n",
       "      <td>No</td>\n",
       "      <td>No</td>\n",
       "      <td>Month-to-month</td>\n",
       "      <td>Yes</td>\n",
       "      <td>Electronic check</td>\n",
       "      <td>70.70</td>\n",
       "      <td>151.65</td>\n",
       "      <td>Yes</td>\n",
       "    </tr>\n",
       "  </tbody>\n",
       "</table>\n",
       "<p>5 rows × 21 columns</p>\n",
       "</div>"
      ],
      "text/plain": [
       "   customerID  gender  SeniorCitizen Partner Dependents  tenure PhoneService  \\\n",
       "0  7590-VHVEG  Female              0     Yes         No       1           No   \n",
       "1  5575-GNVDE    Male              0      No         No      34          Yes   \n",
       "2  3668-QPYBK    Male              0      No         No       2          Yes   \n",
       "3  7795-CFOCW    Male              0      No         No      45           No   \n",
       "4  9237-HQITU  Female              0      No         No       2          Yes   \n",
       "\n",
       "      MultipleLines InternetService OnlineSecurity  ...  DeviceProtection  \\\n",
       "0  No phone service             DSL             No  ...                No   \n",
       "1                No             DSL            Yes  ...               Yes   \n",
       "2                No             DSL            Yes  ...                No   \n",
       "3  No phone service             DSL            Yes  ...               Yes   \n",
       "4                No     Fiber optic             No  ...                No   \n",
       "\n",
       "  TechSupport StreamingTV StreamingMovies        Contract PaperlessBilling  \\\n",
       "0          No          No              No  Month-to-month              Yes   \n",
       "1          No          No              No        One year               No   \n",
       "2          No          No              No  Month-to-month              Yes   \n",
       "3         Yes          No              No        One year               No   \n",
       "4          No          No              No  Month-to-month              Yes   \n",
       "\n",
       "               PaymentMethod MonthlyCharges  TotalCharges Churn  \n",
       "0           Electronic check          29.85         29.85    No  \n",
       "1               Mailed check          56.95        1889.5    No  \n",
       "2               Mailed check          53.85        108.15   Yes  \n",
       "3  Bank transfer (automatic)          42.30       1840.75    No  \n",
       "4           Electronic check          70.70        151.65   Yes  \n",
       "\n",
       "[5 rows x 21 columns]"
      ]
     },
     "execution_count": 3,
     "metadata": {},
     "output_type": "execute_result"
    }
   ],
   "source": [
    "telco.head()"
   ]
  },
  {
   "cell_type": "markdown",
   "metadata": {},
   "source": [
    "* __customerID__: customer ID string. \n",
    "* __gender__: customer gender (female, male)\n",
    "* __SeniorCitizen__: whether the customer is a senior citizen or not (1, 0)\n",
    "* __Partner__: whether the customer has a partner or not (Yes, No)\n",
    "* __Dependents__: whether the customer has dependents or not (Yes, No)\n",
    "* __tenure__: number of months the customer has stayed with the company\n",
    "* __PhoneService__: whether the customer has a phone service or not (Yes, No)\n",
    "* __MultipleLines__: whether the customer has multiple lines or not (Yes, No, No phone service)\n",
    "* __InternetService__: customer’s internet service provider (DSL, Fiber optic, No)\n",
    "* __OnlineSecurity__: whether the customer has online security or not (Yes, No, No internet service)\n",
    "* __OnlineBackup__: whether the customer has online backup or not (Yes, No, No internet service)\n",
    "* __DeviceProtection__: whether the customer has device protection or not (Yes, No, No internet service)\n",
    "* __TechSupport__: whether the customer has tech support or not (Yes, No, No internet service)\n",
    "* __StreamingTV__: whether the customer has streaming TV or not (Yes, No, No internet service)\n",
    "* __StreamingMovies__: whether the customer has streaming movies or not (Yes, No, No internet service)\n",
    "* __Contract__: the contract term of the customer (Month-to-month, One year, Two year)\n",
    "* __PaperlessBilling__: whether the customer has paperless billing or not (Yes, No)\n",
    "* __PaymentMethod__: the customer’s payment method (Electronic check, Mailed check, Bank transfer (automatic), Credit card (automatic))\n",
    "* __MonthlyCharges__: the amount charged to the customer monthly\n",
    "* __TotalCharges__: the total amount charged to the customer\n",
    "* __Churn__: whether the customer churned or not (Yes or No)"
   ]
  },
  {
   "cell_type": "code",
   "execution_count": 4,
   "metadata": {},
   "outputs": [
    {
     "data": {
      "text/plain": [
       "(7043, 21)"
      ]
     },
     "execution_count": 4,
     "metadata": {},
     "output_type": "execute_result"
    }
   ],
   "source": [
    "telco.shape"
   ]
  },
  {
   "cell_type": "code",
   "execution_count": 5,
   "metadata": {},
   "outputs": [
    {
     "data": {
      "text/plain": [
       "customerID           object\n",
       "gender               object\n",
       "SeniorCitizen         int64\n",
       "Partner              object\n",
       "Dependents           object\n",
       "tenure                int64\n",
       "PhoneService         object\n",
       "MultipleLines        object\n",
       "InternetService      object\n",
       "OnlineSecurity       object\n",
       "OnlineBackup         object\n",
       "DeviceProtection     object\n",
       "TechSupport          object\n",
       "StreamingTV          object\n",
       "StreamingMovies      object\n",
       "Contract             object\n",
       "PaperlessBilling     object\n",
       "PaymentMethod        object\n",
       "MonthlyCharges      float64\n",
       "TotalCharges         object\n",
       "Churn                object\n",
       "dtype: object"
      ]
     },
     "execution_count": 5,
     "metadata": {},
     "output_type": "execute_result"
    }
   ],
   "source": [
    "telco.dtypes"
   ]
  },
  {
   "cell_type": "markdown",
   "metadata": {},
   "source": [
    "## 2. Cleaning and Pre-Processing the Data"
   ]
  },
  {
   "cell_type": "markdown",
   "metadata": {},
   "source": [
    "The above list shows that: \n",
    "* There are 21 predictors of which only \"tenure\", \"monthly charges\" and \"total charges\" are quantitative. <br>\n",
    "* The remaining 18 predictors include one identifier (\"customerID\") and 17 categorical predictors, some of which binary, others multi-class. \n",
    "* The target variable to predict is \"churn\", a binary categorical variable, i.e. the customer has either churned (\"Yes\") or not (\"No\"). <br>\n",
    "* The dataset is not yet ready for fitting a ML model. To begin with, not all data types are consistent with the associated variable: \"Total charges\" has been interpreted as a column of strings, likely because some values could not be parsed as numbers by pandas. \"SeniorCitizen\" is an int64, but should be a category. <br>  \n",
    "First, it is good to check for the presence of NaN values: "
   ]
  },
  {
   "cell_type": "code",
   "execution_count": 6,
   "metadata": {},
   "outputs": [
    {
     "data": {
      "text/plain": [
       "customerID          0\n",
       "gender              0\n",
       "SeniorCitizen       0\n",
       "Partner             0\n",
       "Dependents          0\n",
       "tenure              0\n",
       "PhoneService        0\n",
       "MultipleLines       0\n",
       "InternetService     0\n",
       "OnlineSecurity      0\n",
       "OnlineBackup        0\n",
       "DeviceProtection    0\n",
       "TechSupport         0\n",
       "StreamingTV         0\n",
       "StreamingMovies     0\n",
       "Contract            0\n",
       "PaperlessBilling    0\n",
       "PaymentMethod       0\n",
       "MonthlyCharges      0\n",
       "TotalCharges        0\n",
       "Churn               0\n",
       "dtype: int64"
      ]
     },
     "execution_count": 6,
     "metadata": {},
     "output_type": "execute_result"
    }
   ],
   "source": [
    "telco.isna().sum()"
   ]
  },
  {
   "cell_type": "markdown",
   "metadata": {},
   "source": [
    "No na values in the dataset, but there are observations in \"Total charges\" that cannot be parsed to numbers by pandas as applying the method pd.to_numeric() for string-to-number conversion raises an error. These observations can be retrieved using the following method. "
   ]
  },
  {
   "cell_type": "code",
   "execution_count": 7,
   "metadata": {},
   "outputs": [
    {
     "data": {
      "text/plain": [
       "(11, 21)"
      ]
     },
     "execution_count": 7,
     "metadata": {},
     "output_type": "execute_result"
    }
   ],
   "source": [
    "# search for strings in \"TotalCharges\" that do not contain numbers \n",
    "# define regular expression\n",
    "expr= '1|2|3|4|5|6|7|8|9|0'\n",
    "# select df observations that do not contain numbers \n",
    "telco[ ~telco['TotalCharges'].str.contains( expr, regex= True ) ].shape"
   ]
  },
  {
   "cell_type": "markdown",
   "metadata": {},
   "source": [
    "11 observations in the column \"Total charges\" do not contain numbers: they are in fact empty strings. "
   ]
  },
  {
   "cell_type": "code",
   "execution_count": 8,
   "metadata": {},
   "outputs": [
    {
     "data": {
      "text/plain": [
       "11"
      ]
     },
     "execution_count": 8,
     "metadata": {},
     "output_type": "execute_result"
    }
   ],
   "source": [
    "# \"TotalCharges\" must be converted to float\n",
    "telco['TotalCharges']= pd.to_numeric( telco['TotalCharges'], \n",
    "                                      errors= 'coerce' )\n",
    "# 11 empty strings cannot be converted, and are replaced with NaN\n",
    "telco['TotalCharges'].isna().sum()"
   ]
  },
  {
   "cell_type": "markdown",
   "metadata": {},
   "source": [
    "Na values produced by the conversion of \"Total Charges\" to numbers are stored in another data frame (\"telco_nas\"). They're a small number relative to the total number of observations, so removing them should not cause significant loss of accuracy in the model (provided that the classes of the target variable are not extremely unbalanced, which is the case for this dataset). These NaN values can be imputed later on, after testing a baseline model, and added back to the dataset to check whether their inclusion after imputation improves the model accuracy. "
   ]
  },
  {
   "cell_type": "code",
   "execution_count": 9,
   "metadata": {},
   "outputs": [],
   "source": [
    "telco_nas= telco[ telco['TotalCharges'].isna() ].copy()"
   ]
  },
  {
   "cell_type": "markdown",
   "metadata": {},
   "source": [
    "NaN values can now be dropped from the dataset. "
   ]
  },
  {
   "cell_type": "code",
   "execution_count": 10,
   "metadata": {},
   "outputs": [],
   "source": [
    "telco_nona= telco.dropna().copy()"
   ]
  },
  {
   "cell_type": "markdown",
   "metadata": {},
   "source": [
    "\"SeniorCitizen\" must be converted to a category or object data type. "
   ]
  },
  {
   "cell_type": "code",
   "execution_count": 11,
   "metadata": {},
   "outputs": [
    {
     "data": {
      "text/plain": [
       "array([0, 1])"
      ]
     },
     "execution_count": 11,
     "metadata": {},
     "output_type": "execute_result"
    }
   ],
   "source": [
    "telco_nona['SeniorCitizen'].unique()"
   ]
  },
  {
   "cell_type": "code",
   "execution_count": 12,
   "metadata": {},
   "outputs": [
    {
     "data": {
      "text/plain": [
       "customerID           object\n",
       "gender               object\n",
       "SeniorCitizen        object\n",
       "Partner              object\n",
       "Dependents           object\n",
       "tenure                int64\n",
       "PhoneService         object\n",
       "MultipleLines        object\n",
       "InternetService      object\n",
       "OnlineSecurity       object\n",
       "OnlineBackup         object\n",
       "DeviceProtection     object\n",
       "TechSupport          object\n",
       "StreamingTV          object\n",
       "StreamingMovies      object\n",
       "Contract             object\n",
       "PaperlessBilling     object\n",
       "PaymentMethod        object\n",
       "MonthlyCharges      float64\n",
       "TotalCharges        float64\n",
       "Churn                object\n",
       "dtype: object"
      ]
     },
     "execution_count": 12,
     "metadata": {},
     "output_type": "execute_result"
    }
   ],
   "source": [
    "telco_nona['SeniorCitizen']= telco_nona['SeniorCitizen'].replace( to_replace= {0: 'No', 1: 'Yes'} )\n",
    "telco_nona.dtypes"
   ]
  },
  {
   "cell_type": "markdown",
   "metadata": {},
   "source": [
    "\"customerID\" identifier can be dropped. "
   ]
  },
  {
   "cell_type": "code",
   "execution_count": 13,
   "metadata": {},
   "outputs": [],
   "source": [
    "telco_nona.drop(\"customerID\", axis= 1, inplace= True)"
   ]
  },
  {
   "cell_type": "markdown",
   "metadata": {},
   "source": [
    "Replace some predictor names with shorter names for plotting. "
   ]
  },
  {
   "cell_type": "code",
   "execution_count": 14,
   "metadata": {},
   "outputs": [
    {
     "data": {
      "text/plain": [
       "Gender               object\n",
       "Senior               object\n",
       "Partner              object\n",
       "Dependents           object\n",
       "Tenure                int64\n",
       "Phone                object\n",
       "MultipleLines        object\n",
       "Internet             object\n",
       "OnlineSecurity       object\n",
       "OnlineBackup         object\n",
       "DeviceProtection     object\n",
       "TechSupport          object\n",
       "StreamingTV          object\n",
       "StreamingMovies      object\n",
       "Contract             object\n",
       "PaperlessBilling     object\n",
       "PaymentMethod        object\n",
       "MonthlyCharges      float64\n",
       "TotalCharges        float64\n",
       "Churn                object\n",
       "dtype: object"
      ]
     },
     "execution_count": 14,
     "metadata": {},
     "output_type": "execute_result"
    }
   ],
   "source": [
    "mapper = {\"gender\": \"Gender\", \"SeniorCitizen\": \"Senior\", \n",
    "          \"PhoneService\": \"Phone\", \"InternetService\": \"Internet\", \n",
    "          \"tenure\": \"Tenure\"}\n",
    "telco_nona.rename(mapper= mapper, axis= 1, inplace= True)\n",
    "telco_nona.dtypes"
   ]
  },
  {
   "cell_type": "markdown",
   "metadata": {},
   "source": [
    "Unique values of categorical predictors can be listed to check their class multiplicity. "
   ]
  },
  {
   "cell_type": "code",
   "execution_count": 15,
   "metadata": {},
   "outputs": [
    {
     "name": "stdout",
     "output_type": "stream",
     "text": [
      "Gender  : ['Female' 'Male']\n",
      "Senior  : ['No' 'Yes']\n",
      "Partner  : ['Yes' 'No']\n",
      "Dependents  : ['No' 'Yes']\n",
      "Phone  : ['No' 'Yes']\n",
      "MultipleLines  : ['No phone service' 'No' 'Yes']\n",
      "Internet  : ['DSL' 'Fiber optic' 'No']\n",
      "OnlineSecurity  : ['No' 'Yes' 'No internet service']\n",
      "OnlineBackup  : ['Yes' 'No' 'No internet service']\n",
      "DeviceProtection  : ['No' 'Yes' 'No internet service']\n",
      "TechSupport  : ['No' 'Yes' 'No internet service']\n",
      "StreamingTV  : ['No' 'Yes' 'No internet service']\n",
      "StreamingMovies  : ['No' 'Yes' 'No internet service']\n",
      "Contract  : ['Month-to-month' 'One year' 'Two year']\n",
      "PaperlessBilling  : ['Yes' 'No']\n",
      "PaymentMethod  : ['Electronic check' 'Mailed check' 'Bank transfer (automatic)'\n",
      " 'Credit card (automatic)']\n",
      "Churn  : ['No' 'Yes']\n"
     ]
    }
   ],
   "source": [
    "# check unique values for categorical features\n",
    "for item in telco_nona.select_dtypes(object).columns: \n",
    "    print( item, ' :', telco_nona[ item ].unique() )"
   ]
  },
  {
   "cell_type": "markdown",
   "metadata": {},
   "source": [
    "Some predictor classes can be assigned shorter names. "
   ]
  },
  {
   "cell_type": "code",
   "execution_count": 16,
   "metadata": {},
   "outputs": [],
   "source": [
    "telco_nona['Gender']= telco_nona['Gender'].replace( to_replace= {'Female': 'F', 'Male': 'M'} ) \n",
    "telco_nona['MultipleLines']= telco_nona['MultipleLines'].replace( to_replace= { 'No phone service': 'No phone' } )\n",
    "telco_nona['Internet']= telco_nona['Internet'].replace( to_replace= {'Fiber optic': 'Fiber'} )\n",
    "telco_nona[['OnlineSecurity', \n",
    "           'OnlineBackup', \n",
    "           'DeviceProtection', \n",
    "           'TechSupport', \n",
    "           'StreamingTV', \n",
    "           'StreamingMovies']]= telco_nona[['OnlineSecurity', \n",
    "                                            'OnlineBackup', \n",
    "                                            'DeviceProtection', \n",
    "                                            'TechSupport', \n",
    "                                            'StreamingTV', \n",
    "                                            'StreamingMovies']].replace( to_replace= {'No internet service': 'No internet'} )\n",
    "telco_nona['Contract']= telco_nona['Contract'].replace( to_replace= {'Month-to-month': 'M-to-M'} )\n",
    "telco_nona['PaymentMethod']= telco_nona['PaymentMethod'].replace( to_replace= {'Electronic check': 'e-check', \n",
    "                                                                               'Mailed check': 'm-check', \n",
    "                                                                               'Bank transfer (automatic)': 'b-transfer', \n",
    "                                                                               'Credit card (automatic)': 'c-card'} )"
   ]
  },
  {
   "cell_type": "code",
   "execution_count": 17,
   "metadata": {},
   "outputs": [
    {
     "name": "stdout",
     "output_type": "stream",
     "text": [
      "Gender  : ['F' 'M']\n",
      "Senior  : ['No' 'Yes']\n",
      "Partner  : ['Yes' 'No']\n",
      "Dependents  : ['No' 'Yes']\n",
      "Phone  : ['No' 'Yes']\n",
      "MultipleLines  : ['No phone' 'No' 'Yes']\n",
      "Internet  : ['DSL' 'Fiber' 'No']\n",
      "OnlineSecurity  : ['No' 'Yes' 'No internet']\n",
      "OnlineBackup  : ['Yes' 'No' 'No internet']\n",
      "DeviceProtection  : ['No' 'Yes' 'No internet']\n",
      "TechSupport  : ['No' 'Yes' 'No internet']\n",
      "StreamingTV  : ['No' 'Yes' 'No internet']\n",
      "StreamingMovies  : ['No' 'Yes' 'No internet']\n",
      "Contract  : ['M-to-M' 'One year' 'Two year']\n",
      "PaperlessBilling  : ['Yes' 'No']\n",
      "PaymentMethod  : ['e-check' 'm-check' 'b-transfer' 'c-card']\n",
      "Churn  : ['No' 'Yes']\n"
     ]
    }
   ],
   "source": [
    "for item in telco_nona.select_dtypes(object).columns: \n",
    "    print( item, ' :', telco_nona[ item ].unique() )"
   ]
  },
  {
   "cell_type": "markdown",
   "metadata": {},
   "source": [
    "## 3. Visualizing the Relationships between Features"
   ]
  },
  {
   "cell_type": "markdown",
   "metadata": {},
   "source": [
    "It is often useful to get a sense of how the data relates to the target of the predictions by plotting the relationship between some independent variables and the target variable. <br>\n",
    "Additionally, it is important to know whether the target classes are balanced to accurately measure the performance of the classification model that will be built: "
   ]
  },
  {
   "cell_type": "code",
   "execution_count": 18,
   "metadata": {},
   "outputs": [
    {
     "data": {
      "image/png": "[encoded data removed]",
      "text/plain": [
       "<Figure size 432x288 with 1 Axes>"
      ]
     },
     "metadata": {},
     "output_type": "display_data"
    }
   ],
   "source": [
    "sns.set(font_scale= 1.15)\n",
    "ax= sns.countplot(telco_nona.Churn)"
   ]
  },
  {
   "cell_type": "code",
   "execution_count": 19,
   "metadata": {},
   "outputs": [
    {
     "name": "stdout",
     "output_type": "stream",
     "text": [
      "Did not churn:  5163.0\n",
      "Churned:  1869.0\n",
      "'Yes'/'No' prop.:  36.20\n"
     ]
    }
   ],
   "source": [
    "notchurn = telco_nona[ telco_nona[\"Churn\"]==\"No\" ].notnull().sum().mean()\n",
    "churned = telco_nona[ telco_nona[\"Churn\"]==\"Yes\" ].notnull().sum().mean()\n",
    "print(\"Did not churn: \", notchurn)\n",
    "print(\"Churned: \", churned)\n",
    "print(\"'Yes'/'No' prop.: \", \"{:.2f}\".format(churned/notchurn*100))"
   ]
  },
  {
   "cell_type": "markdown",
   "metadata": {},
   "source": [
    "The target classes are significantly unbalanced: \n",
    "* Customers who churned account for ~2/3 of total.  \n",
    "\n",
    "Next, churns may be displayed as a function of gender to see whether male and female customers differ in their churn rate. "
   ]
  },
  {
   "cell_type": "code",
   "execution_count": 20,
   "metadata": {},
   "outputs": [
    {
     "data": {
      "image/png": "[encoded data removed]",
      "text/plain": [
       "<Figure size 432x216 with 2 Axes>"
      ]
     },
     "metadata": {},
     "output_type": "display_data"
    }
   ],
   "source": [
    "ax= sns.FacetGrid(telco_nona, col= \"Gender\", hue= \"Churn\")\n",
    "ax= ax.map(sns.countplot, \"Churn\", order= [\"Yes\", \"No\"])"
   ]
  },
  {
   "cell_type": "markdown",
   "metadata": {},
   "source": [
    "Interestingly, gender doesn't make much of a difference when it comes to churning the company. Churn rates for male and female customers are nearly identical. <br>\n",
    "Insights into customer groups at high risk of churning may be gained by following the scheme of plotting categorical independent variables against the churn variable. Variables can be selected by making sound associations; for example, one may expect that customers on month-to-month contracts are more likely to churn as they can do so probably without incurring penalties. "
   ]
  },
  {
   "cell_type": "code",
   "execution_count": 21,
   "metadata": {},
   "outputs": [
    {
     "data": {
      "image/png": "[encoded data removed]",
      "text/plain": [
       "<Figure size 648x216 with 3 Axes>"
      ]
     },
     "metadata": {},
     "output_type": "display_data"
    }
   ],
   "source": [
    "ax= sns.FacetGrid(telco_nona, col= \"Contract\",  \n",
    "                  hue= \"Churn\", margin_titles= True)\n",
    "ax= ax.map(sns.countplot, \"Churn\", order= [\"Yes\", \"No\"])"
   ]
  },
  {
   "cell_type": "markdown",
   "metadata": {},
   "source": [
    "Indeed, contract duration seems to bear a strong association with the churn rate. Churns recorded for customers on two-year contracts are a tiny fraction.  \n",
    "* Customers on __month-to-month contracts__ are at risk of churning.  \n",
    "\n",
    "What about having or not phone and internet services? "
   ]
  },
  {
   "cell_type": "code",
   "execution_count": 22,
   "metadata": {},
   "outputs": [
    {
     "data": {
      "image/png": "[encoded data removed]",
      "text/plain": [
       "<Figure size 648x432 with 6 Axes>"
      ]
     },
     "metadata": {},
     "output_type": "display_data"
    }
   ],
   "source": [
    "ax= sns.FacetGrid(telco_nona, col= \"Internet\", row= \"Phone\", \n",
    "                  hue= \"Churn\", margin_titles= True)\n",
    "ax= ax.map(sns.countplot, \"Churn\", order= [\"Yes\", \"No\"])"
   ]
  },
  {
   "cell_type": "markdown",
   "metadata": {},
   "source": [
    "* Customers __with phone service and internet connection via optical fiber__ are at risk of churning. "
   ]
  },
  {
   "cell_type": "markdown",
   "metadata": {},
   "source": [
    "Payment methods and the way customers are billed by the company could also make a difference. "
   ]
  },
  {
   "cell_type": "code",
   "execution_count": 23,
   "metadata": {},
   "outputs": [
    {
     "data": {
      "image/png": "[encoded data removed]",
      "text/plain": [
       "<Figure size 864x432 with 8 Axes>"
      ]
     },
     "metadata": {},
     "output_type": "display_data"
    }
   ],
   "source": [
    "ax= sns.FacetGrid(telco_nona, col= \"PaymentMethod\", \n",
    "                  row= \"PaperlessBilling\", hue= \"Churn\", \n",
    "                  margin_titles= True)\n",
    "ax= ax.map(sns.countplot, \"Churn\", order= [\"Yes\", \"No\"])"
   ]
  },
  {
   "cell_type": "markdown",
   "metadata": {},
   "source": [
    "* Customers who opted in for __paperless billing and pay with electronic checks__ are at risk of churning. "
   ]
  },
  {
   "cell_type": "markdown",
   "metadata": {},
   "source": [
    "Quantitative predictors are also on the menu. The size of a service bill may be expected to correlate with the churn rate of customers. "
   ]
  },
  {
   "cell_type": "code",
   "execution_count": 24,
   "metadata": {},
   "outputs": [
    {
     "data": {
      "image/png": "[encoded data removed]",
      "text/plain": [
       "<Figure size 432x432 with 3 Axes>"
      ]
     },
     "metadata": {},
     "output_type": "display_data"
    }
   ],
   "source": [
    "ax= sns.jointplot(data= telco_nona[ telco_nona[\"Churn\"]==\"No\" ], \n",
    "                  x= \"Tenure\", \n",
    "                  y= \"MonthlyCharges\", \n",
    "                  kind= \"kde\", \n",
    "                  n_levels= 60)"
   ]
  },
  {
   "cell_type": "code",
   "execution_count": 25,
   "metadata": {},
   "outputs": [
    {
     "data": {
      "image/png": "[encoded data removed]",
      "text/plain": [
       "<Figure size 432x432 with 3 Axes>"
      ]
     },
     "metadata": {},
     "output_type": "display_data"
    }
   ],
   "source": [
    "ax= sns.jointplot(data= telco_nona[ telco_nona[\"Churn\"]==\"Yes\" ], \n",
    "                  x= \"Tenure\", \n",
    "                  y= \"MonthlyCharges\", \n",
    "                  kind= \"kde\", \n",
    "                  n_levels= 60, \n",
    "                  color= \"darkorange\")"
   ]
  },
  {
   "cell_type": "markdown",
   "metadata": {},
   "source": [
    "The values of monthly charges and tenure look strongly localized for the customers who churned. <br>\n",
    "* A large proportion of customers who churned were receiving __bills in excess of 60 dollars a month, and had subscribed to the company's services for less than a year__. \n",
    "* Loyal customers tend to be more evenly spread with respect to the tenure and monthly charges predictors. However, regions with high concentration of loyal customers are also present: high tenure or low monthly charges are more frequently associated with customers who did not churn. "
   ]
  },
  {
   "cell_type": "markdown",
   "metadata": {},
   "source": [
    "## 4. Baseline Model: Logistic Regression"
   ]
  },
  {
   "cell_type": "markdown",
   "metadata": {},
   "source": [
    "To begin with, we can model the churn probabilities with logistic regression. The performance will then be compared to the one of several other classifiers. <br>\n",
    "Categorical predictors must be encoded to numbers in order to fit a model with scikit-learn. The following code applies the simplest form of encoding to all categorical predictors in the dataset: ordinal encoding. "
   ]
  },
  {
   "cell_type": "code",
   "execution_count": 26,
   "metadata": {},
   "outputs": [],
   "source": [
    "# load libraries\n",
    "# category encoding \n",
    "import category_encoders as ce\n",
    "# train test splitting\n",
    "from sklearn.model_selection import train_test_split\n",
    "# make folds for repeated k-fold cross-validation\n",
    "from sklearn.model_selection import RepeatedStratifiedKFold\n",
    "# calculate performance metrics on resamples\n",
    "from sklearn.model_selection import cross_validate\n",
    "# feature scaler\n",
    "from sklearn.preprocessing import StandardScaler\n",
    "# model \n",
    "from sklearn.linear_model import LogisticRegression\n",
    "# select appropriate performance metrics \n",
    "from sklearn import metrics"
   ]
  },
  {
   "cell_type": "code",
   "execution_count": 27,
   "metadata": {
    "scrolled": true
   },
   "outputs": [],
   "source": [
    "# define predictors and target variable \n",
    "X= telco_nona.iloc[:, :-1].copy()\n",
    "y= telco_nona.loc[:, \"Churn\"].copy()\n",
    "\n",
    "# encode target variable\n",
    "y_enc = y.replace(to_replace={\"No\": 0, \"Yes\": 1})"
   ]
  },
  {
   "cell_type": "code",
   "execution_count": 28,
   "metadata": {},
   "outputs": [
    {
     "name": "stdout",
     "output_type": "stream",
     "text": [
      "Shape of predictors dataset:  (7032, 19)\n",
      "Shape of target variable dataset:  (7032,)\n"
     ]
    }
   ],
   "source": [
    "# encode predictors using ordinal encoding \n",
    "encoder= ce.OrdinalEncoder()\n",
    "X_enc= encoder.fit_transform(X)\n",
    "\n",
    "# convert int to float to avoid warning messages from scaler\n",
    "X_enc= X_enc.astype(float)\n",
    "\n",
    "# check predictors and target variable dimensionality\n",
    "print(\"Shape of predictors dataset: \", X_enc.shape)\n",
    "print(\"Shape of target variable dataset: \", y_enc.shape)"
   ]
  },
  {
   "cell_type": "code",
   "execution_count": 29,
   "metadata": {},
   "outputs": [
    {
     "name": "stdout",
     "output_type": "stream",
     "text": [
      "Gender : [('F', 1), ('M', 2)]\n",
      "Senior : [('No', 1), ('Yes', 2)]\n",
      "Partner : [('Yes', 1), ('No', 2)]\n",
      "Dependents : [('No', 1), ('Yes', 2)]\n",
      "Phone : [('No', 1), ('Yes', 2)]\n",
      "MultipleLines : [('No phone', 1), ('No', 2), ('Yes', 3)]\n",
      "Internet : [('DSL', 1), ('Fiber', 2), ('No', 3)]\n",
      "OnlineSecurity : [('No', 1), ('Yes', 2), ('No internet', 3)]\n",
      "OnlineBackup : [('Yes', 1), ('No', 2), ('No internet', 3)]\n",
      "DeviceProtection : [('No', 1), ('Yes', 2), ('No internet', 3)]\n",
      "TechSupport : [('No', 1), ('Yes', 2), ('No internet', 3)]\n",
      "StreamingTV : [('No', 1), ('Yes', 2), ('No internet', 3)]\n",
      "StreamingMovies : [('No', 1), ('Yes', 2), ('No internet', 3)]\n",
      "Contract : [('M-to-M', 1), ('One year', 2), ('Two year', 3)]\n",
      "PaperlessBilling : [('Yes', 1), ('No', 2)]\n",
      "PaymentMethod : [('e-check', 1), ('m-check', 2), ('b-transfer', 3), ('c-card', 4)]\n"
     ]
    }
   ],
   "source": [
    "# check encoding labels and levels \n",
    "import churn_module as cm\n",
    "cm.get_mapping(encoder)"
   ]
  },
  {
   "cell_type": "code",
   "execution_count": 30,
   "metadata": {},
   "outputs": [],
   "source": [
    "# split dataset into train and test set \n",
    "# maintaining class proportions\n",
    "X_train, X_test, y_train, y_test= train_test_split(X_enc, y_enc, \n",
    "                                                   stratify= y_enc, \n",
    "                                                   test_size= 0.2, \n",
    "                                                   random_state= 1987)"
   ]
  },
  {
   "cell_type": "code",
   "execution_count": 31,
   "metadata": {},
   "outputs": [],
   "source": [
    "# center and scale features\n",
    "scaler = StandardScaler()\n",
    "X_train_scld = scaler.fit_transform(X_train)"
   ]
  },
  {
   "cell_type": "code",
   "execution_count": 32,
   "metadata": {},
   "outputs": [],
   "source": [
    "# select and instantiate model: logistic regression\n",
    "lg= LogisticRegression(C= 0.1, \n",
    "                       penalty= \"l1\", \n",
    "                       random_state= 1987, \n",
    "                       solver= \"liblinear\", \n",
    "                       n_jobs= 1)"
   ]
  },
  {
   "cell_type": "code",
   "execution_count": 33,
   "metadata": {},
   "outputs": [],
   "source": [
    "# 10 folds repeated 10 times for cross-validation \n",
    "rskf= RepeatedStratifiedKFold(n_splits= 10, \n",
    "                              n_repeats= 10, \n",
    "                              random_state= 1987)\n",
    "\n",
    "# peformance metrics \n",
    "scoring= {\"Area under ROC curve: \": \"roc_auc\", \n",
    "          \"Balanced accuracy:\": \"balanced_accuracy\", \n",
    "          \"F1 score:\": \"f1\"}\n",
    "\n",
    "# train classifier on validation folds, \n",
    "# calculate and store score for each metric \n",
    "scores = cross_validate( lg, X_train_scld, y_train, \n",
    "                         scoring= list(scoring.values()), \n",
    "                         cv= rskf, \n",
    "                         n_jobs= 4, \n",
    "                         return_train_score= False, \n",
    "                         return_estimator= False )"
   ]
  },
  {
   "cell_type": "code",
   "execution_count": 34,
   "metadata": {},
   "outputs": [
    {
     "name": "stdout",
     "output_type": "stream",
     "text": [
      "------\n",
      "---- Logistic Regression ----\n",
      "------\n",
      "fit_time 0.044\n",
      "score_time 0.008\n",
      "test_roc_auc 0.842\n",
      "test_balanced_accuracy 0.718\n",
      "test_f1 0.592\n"
     ]
    },
    {
     "data": {
      "image/png": "[encoded data removed]",
      "text/plain": [
       "<Figure size 864x288 with 3 Axes>"
      ]
     },
     "metadata": {},
     "output_type": "display_data"
    }
   ],
   "source": [
    "cm.get_cls_metrics(\"Logistic Regression\", scores)"
   ]
  },
  {
   "cell_type": "markdown",
   "metadata": {},
   "source": [
    "Various performance metrics can be calculated to assess the quality of a classifier. For example, the company may want to emphasize precision over recall, i.e. it may be more important to correctly classify all customers who do not churn (y = 0, Negatives) and less important to misclassify customers who do churn (y = 1, Positives). <br>\n",
    "* Precision: TP/(TP + FP). It is high when False Positives are << True Positives, i.e. when the number of customers who do not churn, but are classified in the group of those who do, is low. \n",
    "* Recall: TP/(TP + FN). It is high when False Negatives are << True Positives, i.e when the number of customers who churn, but are classified in the group of those who don't, is low. <br>  \n",
    "\n",
    "Thus, it could be more appropriate to test the predictive accuracy of the classifier using a $f_{\\beta}$ score, where $\\beta$ is a coefficient that weighs recall higher than precision if > 1. In the following, we will take the standard $f$ score and make no specific assumptions about the company's business objectives. "
   ]
  },
  {
   "cell_type": "markdown",
   "metadata": {},
   "source": [
    "### 4.1 Change Encoding Method: One-Hot Encoding "
   ]
  },
  {
   "cell_type": "markdown",
   "metadata": {},
   "source": [
    "Enconding using a more refined method could lead to an improvement of the classifier performance. Unlike dummy encoding, one-hot encoding treats categorical variables equally as the categories are not represented by scalars of ascending values. "
   ]
  },
  {
   "cell_type": "code",
   "execution_count": 35,
   "metadata": {},
   "outputs": [
    {
     "data": {
      "text/html": [
       "<div>\n",
       "<style scoped>\n",
       "    .dataframe tbody tr th:only-of-type {\n",
       "        vertical-align: middle;\n",
       "    }\n",
       "\n",
       "    .dataframe tbody tr th {\n",
       "        vertical-align: top;\n",
       "    }\n",
       "\n",
       "    .dataframe thead th {\n",
       "        text-align: right;\n",
       "    }\n",
       "</style>\n",
       "<table border=\"1\" class=\"dataframe\">\n",
       "  <thead>\n",
       "    <tr style=\"text-align: right;\">\n",
       "      <th></th>\n",
       "      <th>Gender</th>\n",
       "      <th>Senior</th>\n",
       "      <th>Partner</th>\n",
       "      <th>Dependents</th>\n",
       "      <th>Tenure</th>\n",
       "      <th>Phone</th>\n",
       "      <th>MultipleLines</th>\n",
       "      <th>Internet</th>\n",
       "      <th>OnlineSecurity</th>\n",
       "      <th>OnlineBackup</th>\n",
       "      <th>DeviceProtection</th>\n",
       "      <th>TechSupport</th>\n",
       "      <th>StreamingTV</th>\n",
       "      <th>StreamingMovies</th>\n",
       "      <th>Contract</th>\n",
       "      <th>PaperlessBilling</th>\n",
       "      <th>PaymentMethod</th>\n",
       "      <th>MonthlyCharges</th>\n",
       "      <th>TotalCharges</th>\n",
       "    </tr>\n",
       "  </thead>\n",
       "  <tbody>\n",
       "    <tr>\n",
       "      <th>0</th>\n",
       "      <td>F</td>\n",
       "      <td>No</td>\n",
       "      <td>Yes</td>\n",
       "      <td>No</td>\n",
       "      <td>1</td>\n",
       "      <td>No</td>\n",
       "      <td>No phone</td>\n",
       "      <td>DSL</td>\n",
       "      <td>No</td>\n",
       "      <td>Yes</td>\n",
       "      <td>No</td>\n",
       "      <td>No</td>\n",
       "      <td>No</td>\n",
       "      <td>No</td>\n",
       "      <td>M-to-M</td>\n",
       "      <td>Yes</td>\n",
       "      <td>e-check</td>\n",
       "      <td>29.85</td>\n",
       "      <td>29.85</td>\n",
       "    </tr>\n",
       "    <tr>\n",
       "      <th>1</th>\n",
       "      <td>M</td>\n",
       "      <td>No</td>\n",
       "      <td>No</td>\n",
       "      <td>No</td>\n",
       "      <td>34</td>\n",
       "      <td>Yes</td>\n",
       "      <td>No</td>\n",
       "      <td>DSL</td>\n",
       "      <td>Yes</td>\n",
       "      <td>No</td>\n",
       "      <td>Yes</td>\n",
       "      <td>No</td>\n",
       "      <td>No</td>\n",
       "      <td>No</td>\n",
       "      <td>One year</td>\n",
       "      <td>No</td>\n",
       "      <td>m-check</td>\n",
       "      <td>56.95</td>\n",
       "      <td>1889.50</td>\n",
       "    </tr>\n",
       "    <tr>\n",
       "      <th>2</th>\n",
       "      <td>M</td>\n",
       "      <td>No</td>\n",
       "      <td>No</td>\n",
       "      <td>No</td>\n",
       "      <td>2</td>\n",
       "      <td>Yes</td>\n",
       "      <td>No</td>\n",
       "      <td>DSL</td>\n",
       "      <td>Yes</td>\n",
       "      <td>Yes</td>\n",
       "      <td>No</td>\n",
       "      <td>No</td>\n",
       "      <td>No</td>\n",
       "      <td>No</td>\n",
       "      <td>M-to-M</td>\n",
       "      <td>Yes</td>\n",
       "      <td>m-check</td>\n",
       "      <td>53.85</td>\n",
       "      <td>108.15</td>\n",
       "    </tr>\n",
       "    <tr>\n",
       "      <th>3</th>\n",
       "      <td>M</td>\n",
       "      <td>No</td>\n",
       "      <td>No</td>\n",
       "      <td>No</td>\n",
       "      <td>45</td>\n",
       "      <td>No</td>\n",
       "      <td>No phone</td>\n",
       "      <td>DSL</td>\n",
       "      <td>Yes</td>\n",
       "      <td>No</td>\n",
       "      <td>Yes</td>\n",
       "      <td>Yes</td>\n",
       "      <td>No</td>\n",
       "      <td>No</td>\n",
       "      <td>One year</td>\n",
       "      <td>No</td>\n",
       "      <td>b-transfer</td>\n",
       "      <td>42.30</td>\n",
       "      <td>1840.75</td>\n",
       "    </tr>\n",
       "    <tr>\n",
       "      <th>4</th>\n",
       "      <td>F</td>\n",
       "      <td>No</td>\n",
       "      <td>No</td>\n",
       "      <td>No</td>\n",
       "      <td>2</td>\n",
       "      <td>Yes</td>\n",
       "      <td>No</td>\n",
       "      <td>Fiber</td>\n",
       "      <td>No</td>\n",
       "      <td>No</td>\n",
       "      <td>No</td>\n",
       "      <td>No</td>\n",
       "      <td>No</td>\n",
       "      <td>No</td>\n",
       "      <td>M-to-M</td>\n",
       "      <td>Yes</td>\n",
       "      <td>e-check</td>\n",
       "      <td>70.70</td>\n",
       "      <td>151.65</td>\n",
       "    </tr>\n",
       "  </tbody>\n",
       "</table>\n",
       "</div>"
      ],
      "text/plain": [
       "  Gender Senior Partner Dependents  Tenure Phone MultipleLines Internet  \\\n",
       "0      F     No     Yes         No       1    No      No phone      DSL   \n",
       "1      M     No      No         No      34   Yes            No      DSL   \n",
       "2      M     No      No         No       2   Yes            No      DSL   \n",
       "3      M     No      No         No      45    No      No phone      DSL   \n",
       "4      F     No      No         No       2   Yes            No    Fiber   \n",
       "\n",
       "  OnlineSecurity OnlineBackup DeviceProtection TechSupport StreamingTV  \\\n",
       "0             No          Yes               No          No          No   \n",
       "1            Yes           No              Yes          No          No   \n",
       "2            Yes          Yes               No          No          No   \n",
       "3            Yes           No              Yes         Yes          No   \n",
       "4             No           No               No          No          No   \n",
       "\n",
       "  StreamingMovies  Contract PaperlessBilling PaymentMethod  MonthlyCharges  \\\n",
       "0              No    M-to-M              Yes       e-check           29.85   \n",
       "1              No  One year               No       m-check           56.95   \n",
       "2              No    M-to-M              Yes       m-check           53.85   \n",
       "3              No  One year               No    b-transfer           42.30   \n",
       "4              No    M-to-M              Yes       e-check           70.70   \n",
       "\n",
       "   TotalCharges  \n",
       "0         29.85  \n",
       "1       1889.50  \n",
       "2        108.15  \n",
       "3       1840.75  \n",
       "4        151.65  "
      ]
     },
     "execution_count": 35,
     "metadata": {},
     "output_type": "execute_result"
    }
   ],
   "source": [
    "X.head()"
   ]
  },
  {
   "cell_type": "code",
   "execution_count": 36,
   "metadata": {},
   "outputs": [
    {
     "name": "stdout",
     "output_type": "stream",
     "text": [
      "Shape of predictors dataset:  (7032, 46)\n",
      "Shape of target variable dataset:  (7032,)\n"
     ]
    }
   ],
   "source": [
    "# encode predictors using one-hot encoder \n",
    "encoder = ce.OneHotEncoder(drop_invariant= True)\n",
    "\n",
    "X_enc = encoder.fit_transform(X)\n",
    "# convert int to float to avoid warning messages from scaler\n",
    "X_enc[[\"Tenure\", \"MonthlyCharges\", \"TotalCharges\"]]= X_enc[[\"Tenure\", \"MonthlyCharges\", \"TotalCharges\"]].astype(float)\n",
    "\n",
    "# check predictors and target variable dimensionality\n",
    "print(\"Shape of predictors dataset: \", X_enc.shape)\n",
    "print(\"Shape of target variable dataset: \", y_enc.shape)"
   ]
  },
  {
   "cell_type": "code",
   "execution_count": 37,
   "metadata": {},
   "outputs": [
    {
     "data": {
      "text/html": [
       "<div>\n",
       "<style scoped>\n",
       "    .dataframe tbody tr th:only-of-type {\n",
       "        vertical-align: middle;\n",
       "    }\n",
       "\n",
       "    .dataframe tbody tr th {\n",
       "        vertical-align: top;\n",
       "    }\n",
       "\n",
       "    .dataframe thead th {\n",
       "        text-align: right;\n",
       "    }\n",
       "</style>\n",
       "<table border=\"1\" class=\"dataframe\">\n",
       "  <thead>\n",
       "    <tr style=\"text-align: right;\">\n",
       "      <th></th>\n",
       "      <th>Gender_1</th>\n",
       "      <th>Gender_2</th>\n",
       "      <th>Senior_1</th>\n",
       "      <th>Senior_2</th>\n",
       "      <th>Partner_1</th>\n",
       "      <th>Partner_2</th>\n",
       "      <th>Dependents_1</th>\n",
       "      <th>Dependents_2</th>\n",
       "      <th>Phone_1</th>\n",
       "      <th>Phone_2</th>\n",
       "      <th>...</th>\n",
       "      <th>Contract_3</th>\n",
       "      <th>PaperlessBilling_1</th>\n",
       "      <th>PaperlessBilling_2</th>\n",
       "      <th>PaymentMethod_1</th>\n",
       "      <th>PaymentMethod_2</th>\n",
       "      <th>PaymentMethod_3</th>\n",
       "      <th>PaymentMethod_4</th>\n",
       "      <th>Tenure</th>\n",
       "      <th>MonthlyCharges</th>\n",
       "      <th>TotalCharges</th>\n",
       "    </tr>\n",
       "  </thead>\n",
       "  <tbody>\n",
       "    <tr>\n",
       "      <th>0</th>\n",
       "      <td>1</td>\n",
       "      <td>0</td>\n",
       "      <td>1</td>\n",
       "      <td>0</td>\n",
       "      <td>1</td>\n",
       "      <td>0</td>\n",
       "      <td>1</td>\n",
       "      <td>0</td>\n",
       "      <td>1</td>\n",
       "      <td>0</td>\n",
       "      <td>...</td>\n",
       "      <td>0</td>\n",
       "      <td>1</td>\n",
       "      <td>0</td>\n",
       "      <td>1</td>\n",
       "      <td>0</td>\n",
       "      <td>0</td>\n",
       "      <td>0</td>\n",
       "      <td>1.0</td>\n",
       "      <td>29.85</td>\n",
       "      <td>29.85</td>\n",
       "    </tr>\n",
       "    <tr>\n",
       "      <th>1</th>\n",
       "      <td>0</td>\n",
       "      <td>1</td>\n",
       "      <td>1</td>\n",
       "      <td>0</td>\n",
       "      <td>0</td>\n",
       "      <td>1</td>\n",
       "      <td>1</td>\n",
       "      <td>0</td>\n",
       "      <td>0</td>\n",
       "      <td>1</td>\n",
       "      <td>...</td>\n",
       "      <td>0</td>\n",
       "      <td>0</td>\n",
       "      <td>1</td>\n",
       "      <td>0</td>\n",
       "      <td>1</td>\n",
       "      <td>0</td>\n",
       "      <td>0</td>\n",
       "      <td>34.0</td>\n",
       "      <td>56.95</td>\n",
       "      <td>1889.50</td>\n",
       "    </tr>\n",
       "    <tr>\n",
       "      <th>2</th>\n",
       "      <td>0</td>\n",
       "      <td>1</td>\n",
       "      <td>1</td>\n",
       "      <td>0</td>\n",
       "      <td>0</td>\n",
       "      <td>1</td>\n",
       "      <td>1</td>\n",
       "      <td>0</td>\n",
       "      <td>0</td>\n",
       "      <td>1</td>\n",
       "      <td>...</td>\n",
       "      <td>0</td>\n",
       "      <td>1</td>\n",
       "      <td>0</td>\n",
       "      <td>0</td>\n",
       "      <td>1</td>\n",
       "      <td>0</td>\n",
       "      <td>0</td>\n",
       "      <td>2.0</td>\n",
       "      <td>53.85</td>\n",
       "      <td>108.15</td>\n",
       "    </tr>\n",
       "    <tr>\n",
       "      <th>3</th>\n",
       "      <td>0</td>\n",
       "      <td>1</td>\n",
       "      <td>1</td>\n",
       "      <td>0</td>\n",
       "      <td>0</td>\n",
       "      <td>1</td>\n",
       "      <td>1</td>\n",
       "      <td>0</td>\n",
       "      <td>1</td>\n",
       "      <td>0</td>\n",
       "      <td>...</td>\n",
       "      <td>0</td>\n",
       "      <td>0</td>\n",
       "      <td>1</td>\n",
       "      <td>0</td>\n",
       "      <td>0</td>\n",
       "      <td>1</td>\n",
       "      <td>0</td>\n",
       "      <td>45.0</td>\n",
       "      <td>42.30</td>\n",
       "      <td>1840.75</td>\n",
       "    </tr>\n",
       "    <tr>\n",
       "      <th>4</th>\n",
       "      <td>1</td>\n",
       "      <td>0</td>\n",
       "      <td>1</td>\n",
       "      <td>0</td>\n",
       "      <td>0</td>\n",
       "      <td>1</td>\n",
       "      <td>1</td>\n",
       "      <td>0</td>\n",
       "      <td>0</td>\n",
       "      <td>1</td>\n",
       "      <td>...</td>\n",
       "      <td>0</td>\n",
       "      <td>1</td>\n",
       "      <td>0</td>\n",
       "      <td>1</td>\n",
       "      <td>0</td>\n",
       "      <td>0</td>\n",
       "      <td>0</td>\n",
       "      <td>2.0</td>\n",
       "      <td>70.70</td>\n",
       "      <td>151.65</td>\n",
       "    </tr>\n",
       "  </tbody>\n",
       "</table>\n",
       "<p>5 rows × 46 columns</p>\n",
       "</div>"
      ],
      "text/plain": [
       "   Gender_1  Gender_2  Senior_1  Senior_2  Partner_1  Partner_2  Dependents_1  \\\n",
       "0         1         0         1         0          1          0             1   \n",
       "1         0         1         1         0          0          1             1   \n",
       "2         0         1         1         0          0          1             1   \n",
       "3         0         1         1         0          0          1             1   \n",
       "4         1         0         1         0          0          1             1   \n",
       "\n",
       "   Dependents_2  Phone_1  Phone_2      ...       Contract_3  \\\n",
       "0             0        1        0      ...                0   \n",
       "1             0        0        1      ...                0   \n",
       "2             0        0        1      ...                0   \n",
       "3             0        1        0      ...                0   \n",
       "4             0        0        1      ...                0   \n",
       "\n",
       "   PaperlessBilling_1  PaperlessBilling_2  PaymentMethod_1  PaymentMethod_2  \\\n",
       "0                   1                   0                1                0   \n",
       "1                   0                   1                0                1   \n",
       "2                   1                   0                0                1   \n",
       "3                   0                   1                0                0   \n",
       "4                   1                   0                1                0   \n",
       "\n",
       "   PaymentMethod_3  PaymentMethod_4  Tenure  MonthlyCharges  TotalCharges  \n",
       "0                0                0     1.0           29.85         29.85  \n",
       "1                0                0    34.0           56.95       1889.50  \n",
       "2                0                0     2.0           53.85        108.15  \n",
       "3                1                0    45.0           42.30       1840.75  \n",
       "4                0                0     2.0           70.70        151.65  \n",
       "\n",
       "[5 rows x 46 columns]"
      ]
     },
     "execution_count": 37,
     "metadata": {},
     "output_type": "execute_result"
    }
   ],
   "source": [
    "X_enc.head()"
   ]
  },
  {
   "cell_type": "markdown",
   "metadata": {},
   "source": [
    "The dataset is split using the previously selected `random_state`, which maintains the same indices for train and test sets as in the previous splitting. "
   ]
  },
  {
   "cell_type": "code",
   "execution_count": 38,
   "metadata": {},
   "outputs": [],
   "source": [
    "X_train, X_test, y_train, y_test= train_test_split(X_enc, y_enc, \n",
    "                                                   stratify= y_enc, \n",
    "                                                   test_size= 0.2, \n",
    "                                                   random_state= 1987)"
   ]
  },
  {
   "cell_type": "markdown",
   "metadata": {},
   "source": [
    "Only the quantitative features are scaled to unit variance and centered. "
   ]
  },
  {
   "cell_type": "code",
   "execution_count": 39,
   "metadata": {},
   "outputs": [],
   "source": [
    "# scale\n",
    "scaled_train = scaler.fit_transform(X_train.loc[:, [\"Tenure\", \"MonthlyCharges\", \"TotalCharges\"]])\n",
    "\n",
    "X_train_scld = X_train.copy()\n",
    "X_train_scld.loc[:, \"Tenure\"] = scaled_train[:, 0]\n",
    "X_train_scld.loc[:, \"MonthlyCharges\"] = scaled_train[:, 1]\n",
    "X_train_scld.loc[:, \"TotalCharges\"] = scaled_train[:, 2]"
   ]
  },
  {
   "cell_type": "code",
   "execution_count": 40,
   "metadata": {},
   "outputs": [],
   "source": [
    "# scale test set\n",
    "scaled_test = scaler.transform(X_test.loc[:, [\"Tenure\", \"MonthlyCharges\", \"TotalCharges\"]])\n",
    "\n",
    "X_test_scld = X_test.copy()\n",
    "X_test_scld.loc[:, \"Tenure\"] = scaled_test[:, 0]\n",
    "X_test_scld.loc[:, \"MonthlyCharges\"] = scaled_test[:, 1]\n",
    "X_test_scld.loc[:, \"TotalCharges\"] = scaled_test[:, 2]"
   ]
  },
  {
   "cell_type": "code",
   "execution_count": 41,
   "metadata": {},
   "outputs": [
    {
     "data": {
      "text/html": [
       "<div>\n",
       "<style scoped>\n",
       "    .dataframe tbody tr th:only-of-type {\n",
       "        vertical-align: middle;\n",
       "    }\n",
       "\n",
       "    .dataframe tbody tr th {\n",
       "        vertical-align: top;\n",
       "    }\n",
       "\n",
       "    .dataframe thead th {\n",
       "        text-align: right;\n",
       "    }\n",
       "</style>\n",
       "<table border=\"1\" class=\"dataframe\">\n",
       "  <thead>\n",
       "    <tr style=\"text-align: right;\">\n",
       "      <th></th>\n",
       "      <th>Gender_1</th>\n",
       "      <th>Gender_2</th>\n",
       "      <th>Senior_1</th>\n",
       "      <th>Senior_2</th>\n",
       "      <th>Partner_1</th>\n",
       "      <th>Partner_2</th>\n",
       "      <th>Dependents_1</th>\n",
       "      <th>Dependents_2</th>\n",
       "      <th>Phone_1</th>\n",
       "      <th>Phone_2</th>\n",
       "      <th>...</th>\n",
       "      <th>Contract_3</th>\n",
       "      <th>PaperlessBilling_1</th>\n",
       "      <th>PaperlessBilling_2</th>\n",
       "      <th>PaymentMethod_1</th>\n",
       "      <th>PaymentMethod_2</th>\n",
       "      <th>PaymentMethod_3</th>\n",
       "      <th>PaymentMethod_4</th>\n",
       "      <th>Tenure</th>\n",
       "      <th>MonthlyCharges</th>\n",
       "      <th>TotalCharges</th>\n",
       "    </tr>\n",
       "  </thead>\n",
       "  <tbody>\n",
       "    <tr>\n",
       "      <th>5963</th>\n",
       "      <td>0</td>\n",
       "      <td>1</td>\n",
       "      <td>1</td>\n",
       "      <td>0</td>\n",
       "      <td>1</td>\n",
       "      <td>0</td>\n",
       "      <td>0</td>\n",
       "      <td>1</td>\n",
       "      <td>0</td>\n",
       "      <td>1</td>\n",
       "      <td>...</td>\n",
       "      <td>0</td>\n",
       "      <td>1</td>\n",
       "      <td>0</td>\n",
       "      <td>0</td>\n",
       "      <td>1</td>\n",
       "      <td>0</td>\n",
       "      <td>0</td>\n",
       "      <td>-0.428883</td>\n",
       "      <td>0.466732</td>\n",
       "      <td>-0.275705</td>\n",
       "    </tr>\n",
       "    <tr>\n",
       "      <th>785</th>\n",
       "      <td>1</td>\n",
       "      <td>0</td>\n",
       "      <td>0</td>\n",
       "      <td>1</td>\n",
       "      <td>0</td>\n",
       "      <td>1</td>\n",
       "      <td>1</td>\n",
       "      <td>0</td>\n",
       "      <td>0</td>\n",
       "      <td>1</td>\n",
       "      <td>...</td>\n",
       "      <td>0</td>\n",
       "      <td>1</td>\n",
       "      <td>0</td>\n",
       "      <td>1</td>\n",
       "      <td>0</td>\n",
       "      <td>0</td>\n",
       "      <td>0</td>\n",
       "      <td>0.548912</td>\n",
       "      <td>1.509487</td>\n",
       "      <td>1.142370</td>\n",
       "    </tr>\n",
       "    <tr>\n",
       "      <th>2949</th>\n",
       "      <td>1</td>\n",
       "      <td>0</td>\n",
       "      <td>1</td>\n",
       "      <td>0</td>\n",
       "      <td>0</td>\n",
       "      <td>1</td>\n",
       "      <td>1</td>\n",
       "      <td>0</td>\n",
       "      <td>0</td>\n",
       "      <td>1</td>\n",
       "      <td>...</td>\n",
       "      <td>0</td>\n",
       "      <td>1</td>\n",
       "      <td>0</td>\n",
       "      <td>0</td>\n",
       "      <td>0</td>\n",
       "      <td>0</td>\n",
       "      <td>1</td>\n",
       "      <td>0.956327</td>\n",
       "      <td>-0.145284</td>\n",
       "      <td>0.439283</td>\n",
       "    </tr>\n",
       "    <tr>\n",
       "      <th>353</th>\n",
       "      <td>0</td>\n",
       "      <td>1</td>\n",
       "      <td>1</td>\n",
       "      <td>0</td>\n",
       "      <td>1</td>\n",
       "      <td>0</td>\n",
       "      <td>0</td>\n",
       "      <td>1</td>\n",
       "      <td>0</td>\n",
       "      <td>1</td>\n",
       "      <td>...</td>\n",
       "      <td>0</td>\n",
       "      <td>1</td>\n",
       "      <td>0</td>\n",
       "      <td>0</td>\n",
       "      <td>0</td>\n",
       "      <td>1</td>\n",
       "      <td>0</td>\n",
       "      <td>-1.162229</td>\n",
       "      <td>0.671292</td>\n",
       "      <td>-0.846217</td>\n",
       "    </tr>\n",
       "    <tr>\n",
       "      <th>2522</th>\n",
       "      <td>0</td>\n",
       "      <td>1</td>\n",
       "      <td>1</td>\n",
       "      <td>0</td>\n",
       "      <td>1</td>\n",
       "      <td>0</td>\n",
       "      <td>0</td>\n",
       "      <td>1</td>\n",
       "      <td>0</td>\n",
       "      <td>1</td>\n",
       "      <td>...</td>\n",
       "      <td>0</td>\n",
       "      <td>1</td>\n",
       "      <td>0</td>\n",
       "      <td>0</td>\n",
       "      <td>1</td>\n",
       "      <td>0</td>\n",
       "      <td>0</td>\n",
       "      <td>0.834103</td>\n",
       "      <td>0.470058</td>\n",
       "      <td>0.730622</td>\n",
       "    </tr>\n",
       "  </tbody>\n",
       "</table>\n",
       "<p>5 rows × 46 columns</p>\n",
       "</div>"
      ],
      "text/plain": [
       "      Gender_1  Gender_2  Senior_1  Senior_2  Partner_1  Partner_2  \\\n",
       "5963         0         1         1         0          1          0   \n",
       "785          1         0         0         1          0          1   \n",
       "2949         1         0         1         0          0          1   \n",
       "353          0         1         1         0          1          0   \n",
       "2522         0         1         1         0          1          0   \n",
       "\n",
       "      Dependents_1  Dependents_2  Phone_1  Phone_2      ...       Contract_3  \\\n",
       "5963             0             1        0        1      ...                0   \n",
       "785              1             0        0        1      ...                0   \n",
       "2949             1             0        0        1      ...                0   \n",
       "353              0             1        0        1      ...                0   \n",
       "2522             0             1        0        1      ...                0   \n",
       "\n",
       "      PaperlessBilling_1  PaperlessBilling_2  PaymentMethod_1  \\\n",
       "5963                   1                   0                0   \n",
       "785                    1                   0                1   \n",
       "2949                   1                   0                0   \n",
       "353                    1                   0                0   \n",
       "2522                   1                   0                0   \n",
       "\n",
       "      PaymentMethod_2  PaymentMethod_3  PaymentMethod_4    Tenure  \\\n",
       "5963                1                0                0 -0.428883   \n",
       "785                 0                0                0  0.548912   \n",
       "2949                0                0                1  0.956327   \n",
       "353                 0                1                0 -1.162229   \n",
       "2522                1                0                0  0.834103   \n",
       "\n",
       "      MonthlyCharges  TotalCharges  \n",
       "5963        0.466732     -0.275705  \n",
       "785         1.509487      1.142370  \n",
       "2949       -0.145284      0.439283  \n",
       "353         0.671292     -0.846217  \n",
       "2522        0.470058      0.730622  \n",
       "\n",
       "[5 rows x 46 columns]"
      ]
     },
     "execution_count": 41,
     "metadata": {},
     "output_type": "execute_result"
    }
   ],
   "source": [
    "X_train_scld.head()"
   ]
  },
  {
   "cell_type": "code",
   "execution_count": 42,
   "metadata": {},
   "outputs": [
    {
     "name": "stdout",
     "output_type": "stream",
     "text": [
      "------\n",
      "---- Logistic Regression ----\n",
      "------\n",
      "fit_time 0.153\n",
      "score_time 0.013\n",
      "test_roc_auc 0.841\n",
      "test_balanced_accuracy 0.713\n",
      "test_f1 0.584\n"
     ]
    },
    {
     "data": {
      "image/png": "[encoded data removed]",
      "text/plain": [
       "<Figure size 864x288 with 3 Axes>"
      ]
     },
     "metadata": {},
     "output_type": "display_data"
    }
   ],
   "source": [
    "scores = cross_validate( lg, X_train_scld, y_train, \n",
    "                         scoring= list(scoring.values()), \n",
    "                         cv= rskf, \n",
    "                         n_jobs= 4, \n",
    "                         return_train_score= False, \n",
    "                         return_estimator= False )\n",
    "cm.get_cls_metrics(\"Logistic Regression\", scores)"
   ]
  },
  {
   "cell_type": "markdown",
   "metadata": {},
   "source": [
    "No significant improvement in performance for logistic regression. We can fit the model with these parameters: "
   ]
  },
  {
   "cell_type": "code",
   "execution_count": 43,
   "metadata": {},
   "outputs": [
    {
     "data": {
      "text/plain": [
       "LogisticRegression(C=0.1, class_weight=None, dual=False, fit_intercept=True,\n",
       "          intercept_scaling=1, max_iter=100, multi_class='warn', n_jobs=1,\n",
       "          penalty='l1', random_state=1987, solver='liblinear', tol=0.0001,\n",
       "          verbose=0, warm_start=False)"
      ]
     },
     "execution_count": 43,
     "metadata": {},
     "output_type": "execute_result"
    }
   ],
   "source": [
    "lg.fit(X_train_scld, y_train)"
   ]
  },
  {
   "cell_type": "markdown",
   "metadata": {},
   "source": [
    "We will compare logistic regression with the following algorithms: <br>\n",
    "* Gradient Boosted Trees. \n",
    "* Support Vector Classifier. \n",
    "* K Nearest Neighbors. "
   ]
  },
  {
   "cell_type": "markdown",
   "metadata": {},
   "source": [
    "## 5. Gradient-Boosted Trees"
   ]
  },
  {
   "cell_type": "markdown",
   "metadata": {},
   "source": [
    "The same instantiate-fit-predict procedure can be applied to each model after importing. <br> \n",
    "Parameters have been tuned manually to maximize the performance metrics; however, no systematic grid search has been performed. "
   ]
  },
  {
   "cell_type": "code",
   "execution_count": 44,
   "metadata": {},
   "outputs": [],
   "source": [
    "from sklearn.ensemble import GradientBoostingClassifier\n",
    "gb = GradientBoostingClassifier(n_estimators=1000, learning_rate=0.01, \n",
    "                                max_depth=2, random_state=1987)"
   ]
  },
  {
   "cell_type": "code",
   "execution_count": 46,
   "metadata": {},
   "outputs": [
    {
     "name": "stdout",
     "output_type": "stream",
     "text": [
      "------\n",
      "---- GBT ----\n",
      "------\n",
      "fit_time 9.932\n",
      "score_time 0.050\n",
      "test_roc_auc 0.847\n",
      "test_balanced_accuracy 0.714\n",
      "test_f1 0.585\n"
     ]
    },
    {
     "data": {
      "image/png": "[encoded data removed]",
      "text/plain": [
       "<Figure size 864x288 with 3 Axes>"
      ]
     },
     "metadata": {},
     "output_type": "display_data"
    }
   ],
   "source": [
    "scores = cross_validate( gb, X_train_scld, y_train, \n",
    "                         scoring= list(scoring.values()), \n",
    "                         cv= rskf, \n",
    "                         n_jobs= 4, \n",
    "                         return_train_score= False, \n",
    "                         return_estimator= False )\n",
    "cm.get_cls_metrics(\"GBT\", scores)"
   ]
  },
  {
   "cell_type": "code",
   "execution_count": 47,
   "metadata": {},
   "outputs": [
    {
     "data": {
      "text/plain": [
       "GradientBoostingClassifier(criterion='friedman_mse', init=None,\n",
       "              learning_rate=0.01, loss='deviance', max_depth=2,\n",
       "              max_features=None, max_leaf_nodes=None,\n",
       "              min_impurity_decrease=0.0, min_impurity_split=None,\n",
       "              min_samples_leaf=1, min_samples_split=2,\n",
       "              min_weight_fraction_leaf=0.0, n_estimators=1000,\n",
       "              n_iter_no_change=None, presort='auto', random_state=1987,\n",
       "              subsample=1.0, tol=0.0001, validation_fraction=0.1,\n",
       "              verbose=0, warm_start=False)"
      ]
     },
     "execution_count": 47,
     "metadata": {},
     "output_type": "execute_result"
    }
   ],
   "source": [
    "gb.fit(X_train_scld, y_train)"
   ]
  },
  {
   "cell_type": "markdown",
   "metadata": {},
   "source": [
    "## 6. Support Vector Classifier"
   ]
  },
  {
   "cell_type": "code",
   "execution_count": 48,
   "metadata": {},
   "outputs": [],
   "source": [
    "from sklearn.svm import SVC\n",
    "svc = SVC(C= 10.0, \n",
    "          kernel= \"rbf\", \n",
    "          gamma= \"auto_deprecated\", \n",
    "          shrinking= True, \n",
    "          random_state= 1987)"
   ]
  },
  {
   "cell_type": "code",
   "execution_count": 49,
   "metadata": {},
   "outputs": [
    {
     "name": "stdout",
     "output_type": "stream",
     "text": [
      "------\n",
      "---- Support Vector Classifier ----\n",
      "------\n",
      "fit_time 4.199\n",
      "score_time 0.586\n",
      "test_roc_auc 0.802\n",
      "test_balanced_accuracy 0.695\n",
      "test_f1 0.556\n"
     ]
    },
    {
     "data": {
      "image/png": "[encoded data removed]",
      "text/plain": [
       "<Figure size 864x288 with 3 Axes>"
      ]
     },
     "metadata": {},
     "output_type": "display_data"
    }
   ],
   "source": [
    "scores = cross_validate( svc, X_train_scld, y_train, \n",
    "                         scoring= list(scoring.values()), \n",
    "                         cv= rskf, \n",
    "                         n_jobs= 4, \n",
    "                         return_train_score= False, \n",
    "                         return_estimator= False )\n",
    "cm.get_cls_metrics(\"Support Vector Classifier\", scores)"
   ]
  },
  {
   "cell_type": "code",
   "execution_count": 50,
   "metadata": {},
   "outputs": [
    {
     "data": {
      "text/plain": [
       "SVC(C=10.0, cache_size=200, class_weight=None, coef0=0.0,\n",
       "  decision_function_shape='ovr', degree=3, gamma='auto_deprecated',\n",
       "  kernel='rbf', max_iter=-1, probability=False, random_state=1987,\n",
       "  shrinking=True, tol=0.001, verbose=False)"
      ]
     },
     "execution_count": 50,
     "metadata": {},
     "output_type": "execute_result"
    }
   ],
   "source": [
    "svc.fit(X_train_scld, y_train)"
   ]
  },
  {
   "cell_type": "markdown",
   "metadata": {},
   "source": [
    "## 7. KNN Classifier"
   ]
  },
  {
   "cell_type": "code",
   "execution_count": 51,
   "metadata": {},
   "outputs": [],
   "source": [
    "from sklearn.neighbors import KNeighborsClassifier\n",
    "knn = KNeighborsClassifier(n_neighbors = 80, \n",
    "                           p = 1, \n",
    "                           metric = \"minkowski\", \n",
    "                           n_jobs = 4)"
   ]
  },
  {
   "cell_type": "code",
   "execution_count": 52,
   "metadata": {},
   "outputs": [
    {
     "name": "stdout",
     "output_type": "stream",
     "text": [
      "------\n",
      "---- K Nearest Neighbor ----\n",
      "------\n",
      "fit_time 0.050\n",
      "score_time 1.174\n",
      "test_roc_auc 0.835\n",
      "test_balanced_accuracy 0.720\n",
      "test_f1 0.592\n"
     ]
    },
    {
     "data": {
      "image/png": "[encoded data removed]",
      "text/plain": [
       "<Figure size 864x288 with 3 Axes>"
      ]
     },
     "metadata": {},
     "output_type": "display_data"
    }
   ],
   "source": [
    "scores = cross_validate( knn, X_train_scld, y_train, \n",
    "                         scoring= list(scoring.values()), \n",
    "                         cv= rskf, \n",
    "                         n_jobs= 4, \n",
    "                         return_train_score= False, \n",
    "                         return_estimator= False )\n",
    "cm.get_cls_metrics(\"K Nearest Neighbor\", scores)"
   ]
  },
  {
   "cell_type": "code",
   "execution_count": 53,
   "metadata": {},
   "outputs": [
    {
     "data": {
      "text/plain": [
       "KNeighborsClassifier(algorithm='auto', leaf_size=30, metric='minkowski',\n",
       "           metric_params=None, n_jobs=4, n_neighbors=80, p=1,\n",
       "           weights='uniform')"
      ]
     },
     "execution_count": 53,
     "metadata": {},
     "output_type": "execute_result"
    }
   ],
   "source": [
    "knn.fit(X_train_scld, y_train)"
   ]
  },
  {
   "cell_type": "markdown",
   "metadata": {},
   "source": [
    "## 8. Comparison of Classifiers Performance on Test Set"
   ]
  },
  {
   "cell_type": "markdown",
   "metadata": {},
   "source": [
    "The F metric can be used to compare the performance of the four classifiers on the test set. "
   ]
  },
  {
   "cell_type": "code",
   "execution_count": 54,
   "metadata": {},
   "outputs": [],
   "source": [
    "from sklearn.metrics import f1_score\n",
    "f_perf = dict()"
   ]
  },
  {
   "cell_type": "code",
   "execution_count": 55,
   "metadata": {},
   "outputs": [],
   "source": [
    "lg_pred = lg.predict(X_test_scld)\n",
    "f_perf.update({\"Logistic Regression\": f1_score(y_test, lg_pred)})"
   ]
  },
  {
   "cell_type": "code",
   "execution_count": 56,
   "metadata": {},
   "outputs": [],
   "source": [
    "svc_pred = svc.predict(X_test_scld)\n",
    "f_perf.update({\"Support Vector Classifier\": f1_score(y_test, svc_pred)})"
   ]
  },
  {
   "cell_type": "code",
   "execution_count": 57,
   "metadata": {},
   "outputs": [],
   "source": [
    "gb_pred = gb.predict(X_test_scld)\n",
    "f_perf.update({\"Gradient Boosted Trees\": f1_score(y_test, gb_pred)})"
   ]
  },
  {
   "cell_type": "code",
   "execution_count": 58,
   "metadata": {},
   "outputs": [],
   "source": [
    "knn_pred = knn.predict(X_test_scld)\n",
    "f_perf.update({\"KNN\": f1_score(y_test, knn_pred)})"
   ]
  },
  {
   "cell_type": "code",
   "execution_count": 59,
   "metadata": {},
   "outputs": [
    {
     "data": {
      "image/png": "[encoded data removed]",
      "text/plain": [
       "<Figure size 432x288 with 1 Axes>"
      ]
     },
     "metadata": {},
     "output_type": "display_data"
    }
   ],
   "source": [
    "ax = plt.bar(range(len(f_perf)), list(f_perf.values()))\n",
    "ax = plt.xticks(range(len(f_perf)), list(f_perf.keys()), rotation= 75)\n",
    "ax = plt.ylim(0, 1.0)\n",
    "ax = plt.title(\"Classifier F scores\")"
   ]
  }
 ],
 "metadata": {
  "kernelspec": {
   "display_name": "Python 3",
   "language": "python",
   "name": "python3"
  },
  "language_info": {
   "codemirror_mode": {
    "name": "ipython",
    "version": 3
   },
   "file_extension": ".py",
   "mimetype": "text/x-python",
   "name": "python",
   "nbconvert_exporter": "python",
   "pygments_lexer": "ipython3",
   "version": "3.6.6"
  }
 },
 "nbformat": 4,
 "nbformat_minor": 2
}
